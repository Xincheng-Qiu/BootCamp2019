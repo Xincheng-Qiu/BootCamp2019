{
 "cells": [
  {
   "cell_type": "code",
   "execution_count": 6,
   "metadata": {},
   "outputs": [],
   "source": [
    "import numpy as np"
   ]
  },
  {
   "cell_type": "code",
   "execution_count": 41,
   "metadata": {},
   "outputs": [],
   "source": [
    "def sums(state):\n",
    "    row_sum = np.sum(state, axis = 0)\n",
    "    col_sum = np.sum(state, axis = 1)\n",
    "    diag_sum = np.array([int(state[0,0])+int(state[1,1])+int(state[2,2]), \n",
    "                         int(state[2,0])+ int(state[1,1])+ int(state[0,2])])\n",
    "    sums = np.append(np.append(row_sum, col_sum), diag_sum)\n",
    "    return sums"
   ]
  },
  {
   "cell_type": "code",
   "execution_count": 45,
   "metadata": {},
   "outputs": [],
   "source": [
    "def initv(state):\n",
    "    if 3 in sums(state):\n",
    "        init = 1\n",
    "    elif -3 in sums(state):\n",
    "        init = 0\n",
    "    else:\n",
    "        init = 0.5\n",
    "    return init"
   ]
  },
  {
   "cell_type": "code",
   "execution_count": 48,
   "metadata": {},
   "outputs": [
    {
     "data": {
      "text/plain": [
       "0.5"
      ]
     },
     "execution_count": 48,
     "metadata": {},
     "output_type": "execute_result"
    }
   ],
   "source": [
    "state = np.array([[1, 0, 0], [1, 0, 0], [-1, 0, 0]])\n",
    "initv(state)\n"
   ]
  },
  {
   "cell_type": "code",
   "execution_count": 34,
   "metadata": {},
   "outputs": [
    {
     "data": {
      "text/plain": [
       "(3,)"
      ]
     },
     "execution_count": 34,
     "metadata": {},
     "output_type": "execute_result"
    }
   ],
   "source": [
    "col_sum = np.sum(state, axis = 1)\n",
    "col_sum.shape"
   ]
  },
  {
   "cell_type": "code",
   "execution_count": 36,
   "metadata": {},
   "outputs": [
    {
     "data": {
      "text/plain": [
       "(2,)"
      ]
     },
     "execution_count": 36,
     "metadata": {},
     "output_type": "execute_result"
    }
   ],
   "source": [
    "diag_sum = np.array([int(state[0,0])+int(state[1,1])+int(state[2,2]), \n",
    "                     int(state[2,0])+ int(state[1,1])+ int(state[0,2])])\n",
    "diag_sum.shape"
   ]
  },
  {
   "cell_type": "code",
   "execution_count": 40,
   "metadata": {},
   "outputs": [
    {
     "data": {
      "text/plain": [
       "array([-1,  0,  0,  0,  0, -1,  0, -1])"
      ]
     },
     "execution_count": 40,
     "metadata": {},
     "output_type": "execute_result"
    }
   ],
   "source": []
  }
 ],
 "metadata": {
  "kernelspec": {
   "display_name": "Python 3",
   "language": "python",
   "name": "python3"
  },
  "language_info": {
   "codemirror_mode": {
    "name": "ipython",
    "version": 3
   },
   "file_extension": ".py",
   "mimetype": "text/x-python",
   "name": "python",
   "nbconvert_exporter": "python",
   "pygments_lexer": "ipython3",
   "version": "3.7.3"
  }
 },
 "nbformat": 4,
 "nbformat_minor": 2
}
