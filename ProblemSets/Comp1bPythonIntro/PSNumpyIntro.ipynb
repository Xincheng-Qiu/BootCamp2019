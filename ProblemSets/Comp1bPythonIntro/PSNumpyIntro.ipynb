{
 "cells": [
  {
   "cell_type": "markdown",
   "metadata": {},
   "source": [
    "# Introduction to NumPy"
   ]
  },
  {
   "cell_type": "code",
   "execution_count": 1,
   "metadata": {},
   "outputs": [],
   "source": [
    "import numpy as np"
   ]
  },
  {
   "cell_type": "markdown",
   "metadata": {},
   "source": [
    "## Probelm 1"
   ]
  },
  {
   "cell_type": "code",
   "execution_count": 2,
   "metadata": {
    "scrolled": true
   },
   "outputs": [],
   "source": [
    "A = np.array([[3, -1, 4], \n",
    "              [1, 5, -9]])\n",
    "B = np.array([[2, 6, -5, 3], \n",
    "              [5, -8, 9, 7], \n",
    "              [9, -3, -2, -3]]) "
   ]
  },
  {
   "cell_type": "markdown",
   "metadata": {},
   "source": [
    "There are two main ways to perform matrix multiplication in NumPy:\n",
    "1. with NumPy's dot() function (np.dot(A, B)), \n",
    "2. with the @ operator (A @ B)."
   ]
  },
  {
   "cell_type": "code",
   "execution_count": 3,
   "metadata": {},
   "outputs": [
    {
     "data": {
      "text/plain": [
       "array([[ 37,  14, -32, -10],\n",
       "       [-54,  -7,  58,  65]])"
      ]
     },
     "execution_count": 3,
     "metadata": {},
     "output_type": "execute_result"
    }
   ],
   "source": [
    "np.dot(A, B)"
   ]
  },
  {
   "cell_type": "code",
   "execution_count": 4,
   "metadata": {},
   "outputs": [
    {
     "data": {
      "text/plain": [
       "array([[ 37,  14, -32, -10],\n",
       "       [-54,  -7,  58,  65]])"
      ]
     },
     "execution_count": 4,
     "metadata": {},
     "output_type": "execute_result"
    }
   ],
   "source": [
    "A @ B"
   ]
  },
  {
   "cell_type": "markdown",
   "metadata": {},
   "source": [
    "## Problem 2"
   ]
  },
  {
   "cell_type": "code",
   "execution_count": 5,
   "metadata": {},
   "outputs": [
    {
     "data": {
      "text/plain": [
       "array([[0, 0, 0],\n",
       "       [0, 0, 0],\n",
       "       [0, 0, 0]])"
      ]
     },
     "execution_count": 5,
     "metadata": {},
     "output_type": "execute_result"
    }
   ],
   "source": [
    "A = np.array([[3, 1, 4], \n",
    "              [1, 5, 9],\n",
    "              [-5, 3, 1]])\n",
    "- A @ A @ A + 9 * A @ A - 15 * A"
   ]
  },
  {
   "cell_type": "markdown",
   "metadata": {},
   "source": [
    "This is a demonstration of the Cayley-Hamilton theorem: $p(A)=0$, where $p(.)$ is the characteristic polynomial for the matrix $A$. "
   ]
  },
  {
   "cell_type": "markdown",
   "metadata": {},
   "source": [
    "## Problem 3"
   ]
  },
  {
   "cell_type": "code",
   "execution_count": 6,
   "metadata": {},
   "outputs": [
    {
     "name": "stdout",
     "output_type": "stream",
     "text": [
      "[[1. 1. 1. 1. 1. 1. 1.]\n",
      " [0. 1. 1. 1. 1. 1. 1.]\n",
      " [0. 0. 1. 1. 1. 1. 1.]\n",
      " [0. 0. 0. 1. 1. 1. 1.]\n",
      " [0. 0. 0. 0. 1. 1. 1.]\n",
      " [0. 0. 0. 0. 0. 1. 1.]\n",
      " [0. 0. 0. 0. 0. 0. 1.]]\n",
      "[[-1.  5.  5.  5.  5.  5.  5.]\n",
      " [-1. -1.  5.  5.  5.  5.  5.]\n",
      " [-1. -1. -1.  5.  5.  5.  5.]\n",
      " [-1. -1. -1. -1.  5.  5.  5.]\n",
      " [-1. -1. -1. -1. -1.  5.  5.]\n",
      " [-1. -1. -1. -1. -1. -1.  5.]\n",
      " [-1. -1. -1. -1. -1. -1. -1.]]\n"
     ]
    }
   ],
   "source": [
    "A = np.triu(np.ones((7, 7)))\n",
    "B = np.tril((-1)*np.ones((7, 7))) + np.triu(5*np.ones((7, 7))) - 5 * np.eye(7)\n",
    "print(A)\n",
    "print(B)"
   ]
  },
  {
   "cell_type": "code",
   "execution_count": 7,
   "metadata": {},
   "outputs": [
    {
     "name": "stdout",
     "output_type": "stream",
     "text": [
      "[[ -7  -8  -3   8  25  48  77]\n",
      " [ -6 -12 -12  -6   6  24  48]\n",
      " [ -5 -10 -15 -14  -7   6  25]\n",
      " [ -4  -8 -12 -16 -14  -6   8]\n",
      " [ -3  -6  -9 -12 -15 -12  -3]\n",
      " [ -2  -4  -6  -8 -10 -12  -8]\n",
      " [ -1  -2  -3  -4  -5  -6  -7]]\n"
     ]
    }
   ],
   "source": [
    "C = A @ B @ A\n",
    "C = C.astype(np.int64)\n",
    "print(C)"
   ]
  },
  {
   "cell_type": "markdown",
   "metadata": {},
   "source": [
    "## Problem 4\n",
    "Write a function that accepts a single array as input. Make a copy of the array,\n",
    "then use fancy indexing to set all negative entries of the copy to 0. Return the copy."
   ]
  },
  {
   "cell_type": "code",
   "execution_count": 8,
   "metadata": {},
   "outputs": [],
   "source": [
    "def nonneg(x):\n",
    "    mask = x < 0\n",
    "    x[mask] = 0\n",
    "    return x"
   ]
  },
  {
   "cell_type": "markdown",
   "metadata": {},
   "source": [
    "## Problem 5"
   ]
  },
  {
   "cell_type": "code",
   "execution_count": 9,
   "metadata": {},
   "outputs": [
    {
     "data": {
      "text/plain": [
       "array([[ 0.,  0.,  0.,  0.,  1.,  1.,  0.,  0.],\n",
       "       [ 0.,  0.,  0.,  2.,  3.,  0.,  1.,  0.],\n",
       "       [ 0.,  0.,  0.,  4.,  5.,  0.,  0.,  1.],\n",
       "       [ 0.,  2.,  4.,  0.,  0.,  0.,  0.,  0.],\n",
       "       [ 1.,  3.,  5.,  0.,  0.,  0.,  0.,  0.],\n",
       "       [ 3.,  0.,  0.,  0.,  0., -2., -0., -0.],\n",
       "       [ 3.,  3.,  0.,  0.,  0., -0., -2., -0.],\n",
       "       [ 3.,  3.,  3.,  0.,  0., -0., -0., -2.]])"
      ]
     },
     "execution_count": 9,
     "metadata": {},
     "output_type": "execute_result"
    }
   ],
   "source": [
    "A = np.arange(6).reshape((3,2)).T\n",
    "B = np.tril(3*np.ones(3))\n",
    "C = -2*np.eye(3)\n",
    "V1 = np.hstack((np.zeros((3,3)), A.T, np.eye(3)))\n",
    "V2 = np.hstack((A, np.zeros((2,2)), np.zeros((2,3))))\n",
    "V3 = np.hstack((B, np.zeros((3,2)), C))\n",
    "np.vstack((V1, V2, V3))"
   ]
  },
  {
   "cell_type": "markdown",
   "metadata": {},
   "source": [
    "## Problem 6\n",
    "Write a function than accepts a matrix (as a 2-D array). Divide each row of the matrix by the row sum and return the new row-stochastic matrix. Use array broadcasting and the axis argument instead of a loop."
   ]
  },
  {
   "cell_type": "code",
   "execution_count": 10,
   "metadata": {},
   "outputs": [],
   "source": [
    "def rowsto(x):\n",
    "    rowsum = x.sum(axis=1).reshape(-1,1)\n",
    "    return x/rowsum"
   ]
  },
  {
   "cell_type": "markdown",
   "metadata": {},
   "source": [
    "## Problem 7"
   ]
  },
  {
   "cell_type": "code",
   "execution_count": 11,
   "metadata": {},
   "outputs": [],
   "source": [
    "grid = np.load(\"grid.npy\")"
   ]
  },
  {
   "cell_type": "code",
   "execution_count": 12,
   "metadata": {},
   "outputs": [
    {
     "name": "stdout",
     "output_type": "stream",
     "text": [
      "70600674\n"
     ]
    }
   ],
   "source": [
    "hormax = np.max(grid[:,:-3] * grid[:,1:-2] * grid[:,2:-1] * grid[:,3:])\n",
    "vermax = np.max(grid[:-3,:] * grid[1:-2,:] * grid[2:-1,:] * grid[3:,:])\n",
    "rdgmax = np.max(grid[:-3,:-3] * grid[1:-2,1:-2] * grid[2:-1,2:-1] * grid[3:,3:])\n",
    "ldgmax = np.max(grid[3:,:-3] * grid[2:-1,1:-2] * grid[1:-2,2:-1] * grid[:-3,3:])\n",
    "winner = np.max([hormax, vermax, rdgmax, ldgmax])\n",
    "print(winner)"
   ]
  }
 ],
 "metadata": {
  "kernelspec": {
   "display_name": "Python 3",
   "language": "python",
   "name": "python3"
  },
  "language_info": {
   "codemirror_mode": {
    "name": "ipython",
    "version": 3
   },
   "file_extension": ".py",
   "mimetype": "text/x-python",
   "name": "python",
   "nbconvert_exporter": "python",
   "pygments_lexer": "ipython3",
   "version": "3.7.3"
  }
 },
 "nbformat": 4,
 "nbformat_minor": 2
}
