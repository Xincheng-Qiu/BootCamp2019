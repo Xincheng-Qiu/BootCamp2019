{
 "cells": [
  {
   "cell_type": "markdown",
   "metadata": {},
   "source": [
    "# Asset Market Equilibrium"
   ]
  },
  {
   "cell_type": "markdown",
   "metadata": {},
   "source": [
    "Suppose there are two periods and $S$ states of the world in the second period. There is a single perishable consumption good. There are $H$ agents with endowments $e^{h}=\\left(e_{0}^{h}, \\tilde{e}^{h}\\right) \\in R_{+}^{S+1}$ and identical von Neumann-Morgenstern utility\n",
    "$$\n",
    "U^{h}(c)=v\\left(c_{0}\\right)+\\frac{1}{S} \\sum_{s=1}^{S} v\\left(c_{s}\\right), \\quad \\text { with } \\quad v(c) \\equiv \\frac{c^{1-\\gamma}}{1-\\gamma}, \\quad \\text { for } \\quad \\gamma>1.\n",
    "$$\n",
    "Suppose $H=2, S=4, e^{1}=(1,1,2,1,2), e^{2}=(1,3,1,3,1), \\quad J=2$ with $A^{1}=(1,1,1,1)$ and $A^{2}=(1,1,1.5,1.5)$."
   ]
  },
  {
   "cell_type": "markdown",
   "metadata": {},
   "source": [
    "(a) Define a financial markets equilibrium and write down a system of equations (first order conditions and market clearing) that characterize this equilibrium."
   ]
  },
  {
   "cell_type": "markdown",
   "metadata": {},
   "source": [
    "A financial markets equilibrium is allocation $\\left(\\left\\{ c_{s}^{h}\\right\\} _{s=0}^{5}\\right)_{h=1,2}$, asset holdings $\\left(\\theta_{1}^{h},\\theta_{2}^{h}\\right)_{h=1,2}$, and asset prices $\\left(q_{1},q_{2}\\right)$ such that:\n",
    "\n",
    "1. $\\forall h$, agent $h$ is optimizing, given prices\n",
    "\n",
    "$$\n",
    "\\left(\\left\\{ c_{s}^{h}\\right\\} _{s=0}^{5},\\theta_{1}^{h},\\theta_{2}^{h}\\right)\t\\in\\arg\\max_{\\left\\{ c_{s}\\right\\} _{s=0}^{5},\\theta_{1},\\theta_{2}}v\\left(c_{0}\\right)+\\frac{1}{S}\\sum_{s=1}^{S}v\\left(c_{s}\\right)\n",
    "$$\n",
    "\n",
    "$$\\textrm{s.t. }\t\\textrm{}c_{0}+q_{1}\\theta_{1}+q_{2}\\theta_{2}\\leq e_{0}^{h}$$\n",
    "$$\t\\textrm{}c_{s}\\leq e_{s}^{h}+A_{s}^{1}\\theta_{1}+A_{s}^{2}\\theta_{2},\\quad\\forall s=1,2,3,4$$\n",
    "\n",
    "2. Markets clear:\n",
    "$$\n",
    "\\sum_{h}\\theta_{j}^{h}=0,\\forall j\n",
    "$$"
   ]
  },
  {
   "cell_type": "markdown",
   "metadata": {},
   "source": [
    "To characterize the equilibrium, we plug in \n",
    "$$ c_{0}=e_{0}^{h}-q_{1}\\theta_{1}-q_{2}\\theta_{2} $$\n",
    "$$ c_{s}=e_{s}^{h}+A_{s}^{1}\\theta_{1}+A_{s}^{2}\\theta_{2},\\quad\\forall s=1,2,3,4 $$\n",
    "to the agents' objective function. The first order conditions with respect to $ \\theta_1 $ and $ \\theta_2 $ are:\n",
    "$$\n",
    "q_{j}v^{\\prime}\\left(e_{0}^{h}-q_{1}\\theta_{1}-q_{2}\\theta_{2}\\right)=\\frac{1}{S}\\sum_{s=1}^{S}A_{s}^{j}v^{\\prime}\\left(e_{s}^{h}+A_{s}^{1}\\theta_{1}+A_{s}^{2}\\theta_{2}\\right),\\forall j=1,2\n",
    "$$\n",
    "i.e.,\n",
    "$$\n",
    "q_{j}\\left(e_{0}^{h}-q_{1}\\theta_{1}-q_{2}\\theta_{2}\\right)^{-\\gamma}=\\frac{1}{S}\\sum_{s=1}^{S}A_{s}^{j}\\left(e_{s}^{h}+A_{s}^{1}\\theta_{1}+A_{s}^{2}\\theta_{2}\\right)^{-\\gamma},\\forall j=1,2\n",
    "$$\n",
    "Therefore, the equilibrium is essentially a system of 6 equations in 6 unknowns."
   ]
  },
  {
   "cell_type": "markdown",
   "metadata": {},
   "source": [
    "(b) Use Python to compute the equilibrium prices and allocations allocations for $\\gamma = 2$, $\\gamma = 4$, $\\gamma = 8$, $\\gamma = 166$."
   ]
  },
  {
   "cell_type": "code",
   "execution_count": 1,
   "metadata": {},
   "outputs": [],
   "source": [
    "import numpy as np\n",
    "from scipy.optimize import fsolve"
   ]
  },
  {
   "cell_type": "code",
   "execution_count": 2,
   "metadata": {},
   "outputs": [],
   "source": [
    "def eq(x, gamma):\n",
    "    # payoff matrix of the assets\n",
    "    A1 = np.array([1,1,1,1])\n",
    "    A2 = np.array([1,1,1.5,1.5])\n",
    "    \n",
    "    # endowments\n",
    "    e1 = np.array([1,1,2,1,2])\n",
    "    e2 = np.array([1,3,1,3,1])\n",
    "    \n",
    "    # assign x to meaningful notations\n",
    "    theta11, theta12, theta21, theta22, q1, q2 = x\n",
    "    \n",
    "    # augmented return vectors\n",
    "    AA1 = np.array([-q1,1,1,1,1])\n",
    "    AA2 = np.array([-q2,1,1,1.5,1.5])\n",
    "    \n",
    "    # compute corresponding consumption\n",
    "    c1 = e1 + AA1 * theta11 + AA2 * theta12\n",
    "    c2 = e2 + AA1 * theta21 + AA2 * theta22\n",
    "    \n",
    "    # 6 equations (4 FOCs + 2 market clearing)\n",
    "    foc11 = sum(A1*c1[1:]**(-gamma))/4 - q1*c1[0]**(-gamma)\n",
    "    foc12 = sum(A2*c1[1:]**(-gamma))/4 - q2*c1[0]**(-gamma)\n",
    "    foc21 = sum(A1*c2[1:]**(-gamma))/4 - q1*c2[0]**(-gamma)\n",
    "    foc22 = sum(A2*c2[1:]**(-gamma))/4 - q2*c2[0]**(-gamma)\n",
    "    mc1 = theta11 + theta21\n",
    "    mc2 = theta12 + theta22\n",
    "    \n",
    "    eq = foc11, foc12, foc21, foc22, mc1, mc2\n",
    "    return eq"
   ]
  },
  {
   "cell_type": "code",
   "execution_count": 3,
   "metadata": {},
   "outputs": [
    {
     "name": "stdout",
     "output_type": "stream",
     "text": [
      "When gamma = 2: \n",
      "The equilibrium asset prices are\n",
      "Asset 1: 0.5898\n",
      "Asset 2: 0.7372\n",
      "The equilibrium asset holdings are\n",
      "Agent 1: 0.0195 and -0.0\n",
      "Agent 2: -0.0195 and 0.0\n",
      "The equilibrium consumptions are\n",
      "Agent 1: [0.9885 1.0195 2.0195 1.0195 2.0195]\n",
      "Agent 2: [1.0115 2.9805 0.9805 2.9805 0.9805]\n",
      "\n",
      "\n",
      "When gamma = 4: \n",
      "The equilibrium asset prices are\n",
      "Asset 1: 0.5187\n",
      "Asset 2: 0.6483\n",
      "The equilibrium asset holdings are\n",
      "Agent 1: 0.004 and 0.0\n",
      "Agent 2: -0.004 and -0.0\n",
      "The equilibrium consumptions are\n",
      "Agent 1: [0.9979 1.004  2.004  1.004  2.004 ]\n",
      "Agent 2: [1.0021 2.996  0.996  2.996  0.996 ]\n",
      "\n",
      "\n",
      "When gamma = 8: \n",
      "The equilibrium asset prices are\n",
      "Asset 1: 0.501\n",
      "Asset 2: 0.6263\n",
      "The equilibrium asset holdings are\n",
      "Agent 1: 0.0002 and 0.0\n",
      "Agent 2: -0.0002 and -0.0\n",
      "The equilibrium consumptions are\n",
      "Agent 1: [0.9999 1.0002 2.0002 1.0002 2.0002]\n",
      "Agent 2: [1.0001 2.9998 0.9998 2.9998 0.9998]\n",
      "\n",
      "\n",
      "When gamma = 166: \n",
      "The equilibrium asset prices are\n",
      "Asset 1: 0.5\n",
      "Asset 2: 0.625\n",
      "The equilibrium asset holdings are\n",
      "Agent 1: 0.0 and -0.0\n",
      "Agent 2: -0.0 and 0.0\n",
      "The equilibrium consumptions are\n",
      "Agent 1: [1. 1. 2. 1. 2.]\n",
      "Agent 2: [1. 3. 1. 3. 1.]\n",
      "\n",
      "\n"
     ]
    }
   ],
   "source": [
    "for gamma in 2, 4, 8, 166:\n",
    "    # solutions\n",
    "    theta11, theta12, theta21, theta22, q1, q2 = fsolve(eq,[0.,0.,0.,0.,0.,0.],gamma)\n",
    "    \n",
    "    # endowments\n",
    "    e1 = np.array([1,1,2,1,2])\n",
    "    e2 = np.array([1,3,1,3,1])\n",
    "    \n",
    "    # augmented return vectors\n",
    "    AA1 = np.array([-q1,1,1,1,1])\n",
    "    AA2 = np.array([-q2,1,1,1.5,1.5])\n",
    "    \n",
    "    # consumptions\n",
    "    c1 = e1 + AA1 * theta11 + AA2 * theta12\n",
    "    c2 = e2 + AA1 * theta21 + AA2 * theta22\n",
    "    \n",
    "    # print results\n",
    "    print(\"When gamma = \" + str(gamma) + \": \")\n",
    "    print(\"The equilibrium asset prices are\")\n",
    "    print(\"Asset 1: \" + str(round(q1,4)))\n",
    "    print(\"Asset 2: \" + str(round(q2,4)))\n",
    "    print(\"The equilibrium asset holdings are\")\n",
    "    print(\"Agent 1: \" + str(round(theta11,4)) + \" and \" + str(round(theta12,4)))\n",
    "    print(\"Agent 2: \" + str(round(theta21,4)) + \" and \" + str(round(theta22,4)))\n",
    "    print(\"The equilibrium consumptions are\")\n",
    "    print(\"Agent 1: \" + str(np.around(c1,4)))\n",
    "    print(\"Agent 2: \" + str(np.around(c2,4)))\n",
    "    print(\"\\n\")"
   ]
  }
 ],
 "metadata": {
  "kernelspec": {
   "display_name": "Python 3",
   "language": "python",
   "name": "python3"
  },
  "language_info": {
   "codemirror_mode": {
    "name": "ipython",
    "version": 3
   },
   "file_extension": ".py",
   "mimetype": "text/x-python",
   "name": "python",
   "nbconvert_exporter": "python",
   "pygments_lexer": "ipython3",
   "version": "3.7.3"
  }
 },
 "nbformat": 4,
 "nbformat_minor": 2
}
