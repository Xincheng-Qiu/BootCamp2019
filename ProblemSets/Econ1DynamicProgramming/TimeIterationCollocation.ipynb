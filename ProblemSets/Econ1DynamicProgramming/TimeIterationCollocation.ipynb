{
 "cells": [
  {
   "cell_type": "markdown",
   "metadata": {},
   "source": [
    "Now we compute the same Ramsey model using time iteration. Recall that the Bellman equation is\n",
    "$$\n",
    "V\\left(k,z\\right)=\\max_{k^{\\prime}}v\\left(f\\left(k,z\\right)-k^{\\prime}\\right)+\\beta\\mathbb{E}_{z^{\\prime}}V\\left(k^{\\prime},z^{\\prime}\\right)\n",
    "$$\n",
    "The first order condition with respect to $k^\\prime$ is:\n",
    "$$\n",
    "\\frac{1}{f\\left(k,z\\right)-k^{\\prime}}=\\beta\\mathbb{E}_{z^{\\prime}}V_{k}\\left(k^{\\prime},z^{\\prime}\\right)\n",
    "$$\n",
    "The envelope theorem implies that\n",
    "$$\n",
    "V_{k}\\left(k,z\\right)=\\frac{f_{k}\\left(k,z\\right)}{f\\left(k,z\\right)-k^{\\prime}}\n",
    "$$\n",
    "Therefore the Euler equation is\n",
    "$$\n",
    "\\frac{1}{f\\left(k,z\\right)-k^{\\prime}}=\\beta\\mathbb{E}_{z^{\\prime}}\\frac{f_{k}\\left(k^{\\prime},z^{\\prime}\\right)}{f\\left(k^{\\prime},z^{\\prime}\\right)-k^{\\prime \\prime}}\n",
    "$$\n",
    "where\n",
    "$$\n",
    "f_{k}\\left(k^{\\prime},1\\right)=0.27k^{-0.7}+0.3\n",
    "$$\n",
    "$$\n",
    "f_{k}\\left(k^{\\prime},2\\right)=0.33k^{-0.7}+0.9\n",
    "$$"
   ]
  },
  {
   "cell_type": "markdown",
   "metadata": {},
   "source": [
    "(1) Approximate the investment policy (as a function of capital and the shock) by a piecewise linear function, take 30 pieces (for each value of the shock)."
   ]
  },
  {
   "cell_type": "code",
   "execution_count": 1,
   "metadata": {},
   "outputs": [],
   "source": [
    "import numpy as np\n",
    "from matplotlib import pyplot as plt\n",
    "from scipy.optimize import fsolve\n",
    "from scipy.interpolate import interp1d"
   ]
  },
  {
   "cell_type": "code",
   "execution_count": 2,
   "metadata": {},
   "outputs": [],
   "source": [
    "# production function\n",
    "def f(k,z):\n",
    "    if z == 1:\n",
    "        y = 0.9*k**0.3 + 0.3*k\n",
    "    elif z == 2:\n",
    "        y = 1.1*k**0.3 + 0.9*k\n",
    "    return y\n",
    "\n",
    "# derivative of production function\n",
    "def fk(k,z):\n",
    "    if z == 1:\n",
    "        fk = 0.27*k**(-0.7) + 0.3\n",
    "    elif z == 2:\n",
    "        fk = 0.33*k**(-0.7) + 0.9\n",
    "    return fk\n",
    "\n",
    "# residual function\n",
    "def res(x,k,z,kgrid,gk,beta):\n",
    "    eelhs = 1 / (f(k,z)-x)\n",
    "    inter1 = interp1d(kgrid, gk[:,0])\n",
    "    inter2 = interp1d(kgrid, gk[:,1])\n",
    "    eerhs = beta * 0.5 * (fk(x,1)/(f(x,1)-inter1(x)) + fk(x,2)/(f(x,2)-inter2(x)))\n",
    "    return eelhs - eerhs"
   ]
  },
  {
   "cell_type": "code",
   "execution_count": 3,
   "metadata": {},
   "outputs": [],
   "source": [
    "# capital collocation points\n",
    "nk = 30 \n",
    "kmin = 0.1\n",
    "kmax = 1.5\n",
    "kgrid = np.linspace(kmin, kmax, nk)\n",
    "\n",
    "# iteration pre-allocation\n",
    "tol = 1e-6\n",
    "gkguess = np.zeros((nk,2))\n",
    "gkupdate = np.zeros((nk,2))\n",
    "residual = np.zeros((nk,2))\n",
    "diff = 1\n",
    "\n",
    "# parameter\n",
    "beta = 0.9"
   ]
  },
  {
   "cell_type": "code",
   "execution_count": 4,
   "metadata": {},
   "outputs": [],
   "source": [
    "# iteration\n",
    "while diff > tol:\n",
    "    \n",
    "    for ik in range(nk):\n",
    "        for iz in range(2):\n",
    "            k = kgrid[ik]\n",
    "            z = iz + 1\n",
    "            gkupdate[ik,iz] = fsolve(res,0.1,args=(k,z,kgrid,gkguess,beta))\n",
    "            \n",
    "    for ik in range(nk):\n",
    "        for iz in range(2):\n",
    "            k = kgrid[ik]\n",
    "            z = iz + 1\n",
    "            residual[ik,iz] = res(gkupdate[ik,iz],k,z,kgrid,gkupdate,beta)\n",
    "            \n",
    "    diff = abs(residual).max()\n",
    "    gkguess = np.copy(gkupdate)"
   ]
  },
  {
   "cell_type": "code",
   "execution_count": 5,
   "metadata": {},
   "outputs": [
    {
     "data": {
      "image/png": "[encoded data removed]",
      "text/plain": [
       "<Figure size 432x288 with 1 Axes>"
      ]
     },
     "metadata": {
      "needs_background": "light"
     },
     "output_type": "display_data"
    }
   ],
   "source": [
    "# plot policy\n",
    "plt.plot(kgrid,gkupdate[:,0],label='Bad Shock')\n",
    "plt.plot(kgrid,gkupdate[:,1],label='Good Shock')\n",
    "plt.ylim([min(kgrid),max(kgrid)])\n",
    "plt.xlabel(r\"$k$\")\n",
    "plt.ylabel(r\"$k'$\")\n",
    "plt.legend()\n",
    "plt.show()"
   ]
  },
  {
   "cell_type": "markdown",
   "metadata": {},
   "source": [
    "(2) Redo the same exercise with $ \\beta = 0.999 $ and with $ v(c) = −c^{−4} $. "
   ]
  },
  {
   "cell_type": "markdown",
   "metadata": {},
   "source": [
    "Now the Euler equation changes to\n",
    "$$\n",
    "\\left(f\\left(k,z\\right)-k^{\\prime}\\right)^{-5}=\\beta\\mathbb{E}_{z^{\\prime}}\\left(f\\left(k^{\\prime},z^{\\prime}\\right)-k^{\\prime\\prime}\\right)^{-5}f_{k}\\left(k^{\\prime},z^{\\prime}\\right)\n",
    "$$"
   ]
  },
  {
   "cell_type": "code",
   "execution_count": 6,
   "metadata": {},
   "outputs": [],
   "source": [
    "# residual function\n",
    "def res2(x,k,z,kgrid,gk,beta):\n",
    "    eelhs = (f(k,z)-x)**(-5)\n",
    "    inter1 = interp1d(kgrid, gk[:,0])\n",
    "    inter2 = interp1d(kgrid, gk[:,1])\n",
    "    eerhs = beta * 0.5 * (fk(x,1)*(f(x,1)-inter1(x))**(-5) + fk(x,2)*(f(x,2)-inter2(x))**(-5))\n",
    "    return eelhs - eerhs"
   ]
  },
  {
   "cell_type": "code",
   "execution_count": 7,
   "metadata": {},
   "outputs": [],
   "source": [
    "beta = 0.999\n",
    "\n",
    "# iteration\n",
    "while diff > tol:\n",
    "    \n",
    "    for ik in range(nk):\n",
    "        for iz in range(2):\n",
    "            k = kgrid[ik]\n",
    "            z = iz + 1\n",
    "            gkupdate[ik,iz] = fsolve(res2,0.1,args=(k,z,kgrid,gkguess,beta))\n",
    "            \n",
    "    for ik in range(nk):\n",
    "        for iz in range(2):\n",
    "            k = kgrid[ik]\n",
    "            z = iz + 1\n",
    "            residual[ik,iz] = res2(gkupdate[ik,iz],k,z,kgrid,gkupdate,beta)\n",
    "            \n",
    "    diff = abs(residual).max()\n",
    "    gkguess = np.copy(gkupdate)"
   ]
  },
  {
   "cell_type": "code",
   "execution_count": 8,
   "metadata": {},
   "outputs": [
    {
     "data": {
      "image/png": "[encoded data removed]",
      "text/plain": [
       "<Figure size 432x288 with 1 Axes>"
      ]
     },
     "metadata": {
      "needs_background": "light"
     },
     "output_type": "display_data"
    }
   ],
   "source": [
    "# plot policy\n",
    "plt.plot(kgrid,gkupdate[:,0],label='Bad Shock')\n",
    "plt.plot(kgrid,gkupdate[:,1],label='Good Shock')\n",
    "plt.ylim([min(kgrid),max(kgrid)])\n",
    "plt.xlabel(r\"$k$\")\n",
    "plt.ylabel(r\"$k'$\")\n",
    "plt.legend()\n",
    "plt.show()"
   ]
  }
 ],
 "metadata": {
  "kernelspec": {
   "display_name": "Python 3",
   "language": "python",
   "name": "python3"
  },
  "language_info": {
   "codemirror_mode": {
    "name": "ipython",
    "version": 3
   },
   "file_extension": ".py",
   "mimetype": "text/x-python",
   "name": "python",
   "nbconvert_exporter": "python",
   "pygments_lexer": "ipython3",
   "version": "3.7.3"
  }
 },
 "nbformat": 4,
 "nbformat_minor": 2
}
