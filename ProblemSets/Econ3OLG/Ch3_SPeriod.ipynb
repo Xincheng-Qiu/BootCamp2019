{
 "cells": [
  {
   "cell_type": "code",
   "execution_count": 1,
   "metadata": {},
   "outputs": [],
   "source": [
    "import numpy as np\n",
    "import time\n",
    "import scipy.optimize as opt\n",
    "import matplotlib.pyplot as plt"
   ]
  },
  {
   "cell_type": "code",
   "execution_count": 2,
   "metadata": {},
   "outputs": [],
   "source": [
    "# calibration\n",
    "S = 80\n",
    "beta = 0.96 ** (80/S)\n",
    "delta = 1 - (1-0.05) ** (80/S)\n",
    "sigma = 3\n",
    "A = 1\n",
    "alpha = 0.35\n",
    "SS_tol = 10**(-6)"
   ]
  },
  {
   "cell_type": "code",
   "execution_count": 3,
   "metadata": {},
   "outputs": [],
   "source": [
    "def get_r(K, params):\n",
    "    '''\n",
    "    firm FOC for capital\n",
    "    '''\n",
    "    beta, sigma, nvec, L, A, alpha, delta, SS_tol = params\n",
    "    r = alpha*A*(sum(nvec)/K)**(1-alpha) - delta\n",
    "    return r\n",
    "\n",
    "\n",
    "def get_w(K, params):\n",
    "    '''\n",
    "    firm FOC for labor\n",
    "    '''\n",
    "    beta, sigma, nvec, L, A, alpha, delta, SS_tol = params\n",
    "    w = (1-alpha)*A*(K/sum(nvec))**alpha \n",
    "    return w"
   ]
  },
  {
   "cell_type": "code",
   "execution_count": 4,
   "metadata": {},
   "outputs": [],
   "source": [
    "def EulErr(bvec, params):\n",
    "    '''\n",
    "    Euler Errors given guess for bvec and parameters\n",
    "    '''\n",
    "    beta, sigma, nvec, L, A, alpha, delta, SS_tol = params\n",
    "   \n",
    "    # wage and rental rate\n",
    "    w = get_w(sum(bvec),params)\n",
    "    r = get_r(sum(bvec),params)\n",
    "    \n",
    "    b = np.append(np.append(0,bvec),0)\n",
    "    # consumption\n",
    "    c = w * nvec + (1 + r) * b[:-1] - b[1:]\n",
    "    \n",
    "    # Euler errors\n",
    "    EulErr = beta * (1 + r) * c[1:] ** (-sigma) - c[:-1] ** (-sigma) \n",
    "    \n",
    "    return EulErr"
   ]
  },
  {
   "cell_type": "code",
   "execution_count": 5,
   "metadata": {},
   "outputs": [],
   "source": [
    "def get_SS(params, bvec_guess, SS_graphs):\n",
    "    '''\n",
    "    compute the steady-state equilibrium \n",
    "    \n",
    "    Inputs:\n",
    "    params: a tuple of the parameters for the model params \n",
    "        = (beta, sigma, nvec, L, A, alpha, delta, SS_tol)\n",
    "    bvec_guess: an initial guess of the steady-state savings\n",
    "    SS_graphs: a Boolean that generates a figure of the steady-state distribution\n",
    "    \n",
    "    Outputs: \n",
    "    a Python dictionary with the steady-state solution values\n",
    "    '''\n",
    "    # unpack parameters\n",
    "    beta, sigma, nvec, L, A, alpha, delta, SS_tol = params\n",
    "    \n",
    "    start_time = time.perf_counter() # Place at beginning of get_SS()\n",
    "    \n",
    "    # solve Euler equations\n",
    "    ss = opt.root(EulErr, bvec_guess, tol = SS_tol, args = params) \n",
    "    b_ss = ss.x\n",
    "    K_ss = sum(b_ss)\n",
    "    w_ss = get_w(K_ss, params)\n",
    "    r_ss = get_r(K_ss, params)\n",
    "    b = np.append(np.append(0,b_ss),0)\n",
    "    c_ss = w_ss * nvec + (1 + r_ss) * b[:-1] - b[1:]\n",
    "    Y_ss = A * K_ss**alpha * L**(1-alpha)\n",
    "    C_ss = sum(c_ss)\n",
    "    \n",
    "    ss_time = time.perf_counter() - start_time # Place at end of get_SS()\n",
    "    \n",
    "    EulErr_ss = EulErr(b_ss, params)\n",
    "    RCerr_ss = Y_ss - C_ss - delta * K_ss\n",
    "    \n",
    "    ss_output = { \n",
    "        'b_ss': b_ss, 'c_ss': c_ss, 'w_ss': w_ss, 'r_ss': r_ss,\n",
    "        'K_ss': K_ss, 'Y_ss': Y_ss, 'C_ss': C_ss,\n",
    "        'EulErr_ss': EulErr_ss, 'RCerr_ss': RCerr_ss,\n",
    "        'ss_time': ss_time}\n",
    "    \n",
    "    \n",
    "    if SS_graphs == True:\n",
    "        period = np.linspace(1,80,80)\n",
    "        b = np.append(0,b_ss)\n",
    "        fig = plt.figure(figsize = (6,6))\n",
    "        plt.plot(period, c_ss, label=r'$\\bar{c}_s$', marker='x') \n",
    "        plt.plot(period, b, label=r'$\\bar{b}_s$', marker='o')\n",
    "        plt.legend()\n",
    "        plt.grid()\n",
    "        plt.xlabel(\"Age Period\")\n",
    "        plt.show()\n",
    "        \n",
    "    return ss_output"
   ]
  },
  {
   "cell_type": "code",
   "execution_count": 6,
   "metadata": {},
   "outputs": [],
   "source": [
    "# exogenous labor supply\n",
    "nvec = np.zeros(S)\n",
    "nvec[0:round(2*S/3)] = 1\n",
    "nvec[round(2*S/3)+1:] = 0.2 \n",
    "L = sum(nvec)\n",
    "\n",
    "params = np.array([beta, sigma, nvec, L, A, alpha, delta, SS_tol])"
   ]
  },
  {
   "cell_type": "code",
   "execution_count": 7,
   "metadata": {
    "scrolled": true
   },
   "outputs": [
    {
     "data": {
      "image/png": "[encoded data removed]",
      "text/plain": [
       "<Figure size 432x432 with 1 Axes>"
      ]
     },
     "metadata": {
      "needs_background": "light"
     },
     "output_type": "display_data"
    },
    {
     "data": {
      "text/plain": [
       "{'b_ss': array([ 0.05991559,  0.1243799 ,  0.19355274,  0.26759955,  0.34669144,\n",
       "         0.43100595,  0.52072703,  0.61604524,  0.71715802,  0.8242699 ,\n",
       "         0.93759282,  1.05734636,  1.183758  ,  1.31706344,  1.4575069 ,\n",
       "         1.60534136,  1.76082897,  1.92424132,  2.09585977,  2.27597587,\n",
       "         2.46489165,  2.66292005,  2.87038528,  3.08762325,  3.31498197,\n",
       "         3.55282203,  3.80151698,  4.06145387,  4.33303368,  4.61667188,\n",
       "         4.91279888,  5.22186064,  5.54431917,  5.88065316,  6.23135855,\n",
       "         6.59694916,  6.97795732,  7.37493456,  7.7884523 ,  8.21910254,\n",
       "         8.66749865,  9.13427606,  9.62009316, 10.12563203, 10.65159936,\n",
       "        11.19872731, 11.76777443, 12.35952663, 12.97479815, 13.61443257,\n",
       "        14.27930384, 14.97031696, 15.68841118, 15.05084266, 14.6692135 ,\n",
       "        14.2759998 , 13.8707802 , 13.45311772, 13.02256053, 12.57864015,\n",
       "        12.12087103, 11.64875019, 11.16175654, 10.65935029, 10.14097215,\n",
       "         9.60604274,  9.05396178,  8.48410737,  7.89583527,  7.28847801,\n",
       "         6.66134409,  6.01371684,  5.34485394,  4.65398648,  3.9403177 ,\n",
       "         3.20302215,  2.44124469,  1.65409928,  0.84066804]),\n",
       " 'c_ss': array([1.32379916, 1.32140952, 1.319024  , 1.31664271, 1.31426595,\n",
       "        1.31189345, 1.30952519, 1.30716121, 1.30480149, 1.30244603,\n",
       "        1.30009482, 1.29774786, 1.29540513, 1.29306664, 1.29073236,\n",
       "        1.2884023 , 1.28607645, 1.28375479, 1.28143733, 1.27912405,\n",
       "        1.27681494, 1.27451001, 1.27220923, 1.26991261, 1.26762013,\n",
       "        1.2653318 , 1.26304759, 1.26076751, 1.25849154, 1.25621968,\n",
       "        1.25395192, 1.25168826, 1.24942868, 1.24717318, 1.24492176,\n",
       "        1.24267439, 1.24043109, 1.23819183, 1.23595662, 1.23372544,\n",
       "        1.23149829, 1.22927516, 1.22705604, 1.22484094, 1.22262984,\n",
       "        1.22042273, 1.2182196 , 1.21602042, 1.2138252 , 1.21163393,\n",
       "        1.20944665, 1.20726378, 1.2050837 , 1.20290858, 1.20073706,\n",
       "        1.19856939, 1.19640564, 1.19424621, 1.19209023, 1.18993808,\n",
       "        1.18778991, 1.18564569, 1.18350537, 1.18136891, 1.17923632,\n",
       "        1.17710757, 1.17498266, 1.17286158, 1.17074428, 1.16863074,\n",
       "        1.16652098, 1.1644152 , 1.16231327, 1.160215  , 1.15812056,\n",
       "        1.1560299 , 1.15394299, 1.15185987, 1.14978052, 1.1477049 ]),\n",
       " 'w_ss': 1.3837147495245272,\n",
       " 'r_ss': 0.03603552050366546,\n",
       " 'K_ss': 504.0184705609924,\n",
       " 'Y_ss': 123.895689880504,\n",
       " 'C_ss': 98.69476635245427,\n",
       " 'EulErr_ss': array([-1.11200166e-07,  7.62358640e-08,  1.57262807e-07, -7.08218181e-08,\n",
       "        -4.68665307e-08,  1.29282141e-10, -1.23488608e-10, -1.25114918e-11,\n",
       "        -1.77702297e-12, -2.80392376e-12, -4.78633799e-12, -5.08865172e-12,\n",
       "        -5.14371878e-12, -5.17663690e-12, -5.00866015e-12, -4.90069096e-12,\n",
       "        -5.03741493e-12, -5.72691894e-12, -6.95982161e-12, -8.95450381e-12,\n",
       "        -1.19295684e-11, -1.64471214e-11, -2.32611708e-11, -3.36448647e-11,\n",
       "        -4.90553709e-11, -7.11057324e-11, -1.00539133e-10, -1.36274880e-10,\n",
       "        -1.73476011e-10, -2.01318628e-10, -2.01226369e-10, -1.45698675e-10,\n",
       "        -7.20312698e-13,  2.67073808e-10,  6.76371292e-10,  1.20578703e-09,\n",
       "         1.76100290e-09,  2.13807649e-09,  2.00000105e-09,  8.96211327e-10,\n",
       "        -1.61674141e-09, -5.69423775e-09, -1.07131393e-08, -1.46299722e-08,\n",
       "        -1.36122341e-08, -2.91052149e-09,  1.95308087e-08,  4.64975451e-08,\n",
       "         5.73093312e-08,  2.29345795e-08, -6.31384997e-07,  9.87336556e-07,\n",
       "        -4.65744249e-07, -9.33014110e-09,  1.13000604e-07,  9.09376185e-08,\n",
       "        -5.19757456e-07,  1.46777664e-07,  2.44711645e-07,  9.33467046e-08,\n",
       "        -9.34444266e-09, -4.83034814e-08, -5.83048425e-08, -5.98233693e-08,\n",
       "        -5.95019440e-08, -5.48734884e-08, -3.33113548e-08,  3.02845704e-08,\n",
       "         1.46925289e-07,  1.90325500e-07, -8.71487209e-08, -1.59026913e-07,\n",
       "         4.99421560e-08, -4.57574878e-09, -9.38469968e-09,  3.03356208e-08,\n",
       "        -2.54391036e-08, -2.35349701e-08,  2.49326330e-08]),\n",
       " 'RCerr_ss': 8.526512829121202e-14,\n",
       " 'ss_time': 0.02220629999999968}"
      ]
     },
     "execution_count": 7,
     "metadata": {},
     "output_type": "execute_result"
    }
   ],
   "source": [
    "get_SS(params, np.ones(S-1)*0.15, True)"
   ]
  },
  {
   "cell_type": "code",
   "execution_count": 8,
   "metadata": {},
   "outputs": [],
   "source": [
    "# exogenous labor supply\n",
    "nvec = np.zeros(S)\n",
    "nvec[0:round(S/2)] = 1\n",
    "nvec[round(S/2)+1:] = 0.2 \n",
    "L = sum(nvec)\n",
    "\n",
    "params = np.array([beta, sigma, nvec, L, A, alpha, delta, SS_tol])"
   ]
  },
  {
   "cell_type": "code",
   "execution_count": 9,
   "metadata": {},
   "outputs": [
    {
     "data": {
      "image/png": "[encoded data removed]",
      "text/plain": [
       "<Figure size 432x432 with 1 Axes>"
      ]
     },
     "metadata": {
      "needs_background": "light"
     },
     "output_type": "display_data"
    },
    {
     "data": {
      "text/plain": [
       "{'b_ss': array([ 0.13117612,  0.27628501,  0.43546406,  0.6088537 ,  0.7965975 ,\n",
       "         0.99884212,  1.21573745,  1.4474366 ,  1.69409597,  1.9558753 ,\n",
       "         2.23293768,  2.52544969,  2.83358134,  3.15750623,  3.4974015 ,\n",
       "         3.85344798,  4.22583017,  4.61473634,  5.02035858,  5.44289284,\n",
       "         5.88253899,  6.33950093,  6.81398656,  7.30620795,  7.81638131,\n",
       "         8.3447271 ,  8.89147009,  9.45683943, 10.04106871, 10.64439601,\n",
       "        11.26706404, 11.9093201 , 12.57141627, 13.25360941, 13.95616123,\n",
       "        14.67933843, 15.42341272, 16.18866092, 16.97536502, 17.78381231,\n",
       "        17.02681655, 16.58319987, 16.14061977, 15.69902514, 15.25836499,\n",
       "        14.8185883 , 14.37964334, 13.94147807, 13.5040402 , 13.06727711,\n",
       "        12.63113581, 12.19556294, 11.76050477, 11.3259072 , 10.8917157 ,\n",
       "        10.45787536, 10.02433083,  9.59102634,  9.1579057 ,  8.72491224,\n",
       "         8.29198885,  7.85907794,  7.42612141,  6.99306071,  6.55983673,\n",
       "         6.12638989,  5.69266002,  5.25858646,  4.82410793,  4.38916263,\n",
       "         3.95368816,  3.51762149,  3.08089901,  2.64345648,  2.20522902,\n",
       "         1.76615108,  1.32615644,  0.88517823,  0.44314885]),\n",
       " 'c_ss': array([1.45630276, 1.44455564, 1.43290327, 1.42134491, 1.40987978,\n",
       "        1.39850713, 1.38722621, 1.37603629, 1.36493664, 1.35392651,\n",
       "        1.3430052 , 1.33217199, 1.32142616, 1.31076701, 1.30019384,\n",
       "        1.28970596, 1.27930268, 1.26898331, 1.25874719, 1.24859363,\n",
       "        1.23852198, 1.22853157, 1.21862174, 1.20879186, 1.19904126,\n",
       "        1.18936932, 1.17977539, 1.17025885, 1.16081908, 1.15145545,\n",
       "        1.14216735, 1.13295417, 1.12381531, 1.11475017, 1.10575815,\n",
       "        1.09683867, 1.08799113, 1.07921496, 1.07050959, 1.06187443,\n",
       "        1.05330893, 1.04481258, 1.03638449, 1.02802475, 1.01973245,\n",
       "        1.01150673, 1.00334746, 0.99525408, 0.98722599, 0.97926264,\n",
       "        0.97136352, 0.96352812, 0.95575592, 0.9480464 , 0.94039908,\n",
       "        0.93281345, 0.925289  , 0.91782525, 0.91042171, 0.90307789,\n",
       "        0.8957933 , 0.88856748, 0.88139994, 0.87429022, 0.86723784,\n",
       "        0.86024236, 0.8533033 , 0.84642022, 0.83959265, 0.83282016,\n",
       "        0.82610231, 0.81943864, 0.81282872, 0.80627212, 0.79976841,\n",
       "        0.79331716, 0.78691794, 0.78057035, 0.77427396, 0.76802836]),\n",
       " 'w_ss': 1.5874788747222046,\n",
       " 'r_ss': 0.01666195968401818,\n",
       " 'K_ss': 612.9322353233115,\n",
       " 'Y_ss': 116.74075417187932,\n",
       " 'C_ss': 86.09414240571344,\n",
       " 'EulErr_ss': array([ 1.56439739e-09,  2.01140016e-09, -3.56223545e-09, -1.96244632e-10,\n",
       "         1.28891398e-10, -1.83729698e-11, -5.52750623e-11, -1.63596359e-11,\n",
       "        -4.53959093e-12, -4.90624208e-12, -6.32421893e-12, -7.11586345e-12,\n",
       "        -7.39902584e-12, -7.38187289e-12, -7.15855153e-12, -6.80128176e-12,\n",
       "        -6.34953201e-12, -5.76361181e-12, -5.17763610e-12, -4.49562609e-12,\n",
       "        -3.81672471e-12, -3.07187609e-12, -2.35711450e-12, -1.66910930e-12,\n",
       "        -9.88098492e-13, -3.48276963e-13,  2.56239474e-13,  5.89084337e-13,\n",
       "         6.59472477e-14, -3.67639252e-12, -1.54818380e-11, -4.64621674e-11,\n",
       "        -1.10899734e-10, -2.06855422e-10, -2.18942420e-10,  8.94532226e-11,\n",
       "         1.15698556e-08, -2.51258805e-08,  1.40318548e-08, -4.41172432e-10,\n",
       "        -1.64014228e-07,  5.65967250e-07, -4.09309749e-07, -4.15411575e-07,\n",
       "         4.20823096e-07,  1.65098468e-07, -5.63684160e-08, -7.68585340e-08,\n",
       "        -4.26484961e-08, -1.38860723e-08,  1.83466109e-09,  8.42626613e-09,\n",
       "         9.74112635e-09,  8.22334045e-09,  5.38028999e-09,  2.28064012e-09,\n",
       "        -3.62479824e-10, -2.08344186e-09, -2.75414003e-09, -2.53780486e-09,\n",
       "        -1.79132331e-09, -9.33011668e-10, -2.72069700e-10,  6.73530121e-11,\n",
       "         1.45689460e-10,  1.08618226e-10,  6.61752875e-11,  4.42605952e-11,\n",
       "         2.55735433e-11, -2.30038211e-12, -3.75188769e-11, -7.50446372e-11,\n",
       "        -2.26112462e-10, -7.39750039e-10, -9.25395538e-10, -6.57100596e-10,\n",
       "        -7.75839837e-10,  8.82041107e-11, -3.30051098e-10]),\n",
       " 'RCerr_ss': 2.7355895326763857e-13,\n",
       " 'ss_time': 0.028297300000000192}"
      ]
     },
     "execution_count": 9,
     "metadata": {},
     "output_type": "execute_result"
    }
   ],
   "source": [
    "get_SS(params, np.ones(S-1)*0.15, True)"
   ]
  }
 ],
 "metadata": {
  "kernelspec": {
   "display_name": "Python 3",
   "language": "python",
   "name": "python3"
  },
  "language_info": {
   "codemirror_mode": {
    "name": "ipython",
    "version": 3
   },
   "file_extension": ".py",
   "mimetype": "text/x-python",
   "name": "python",
   "nbconvert_exporter": "python",
   "pygments_lexer": "ipython3",
   "version": "3.7.3"
  }
 },
 "nbformat": 4,
 "nbformat_minor": 2
}
