{
 "cells": [
  {
   "cell_type": "markdown",
   "metadata": {},
   "source": [
    "# 3-period-lived Agents with Exogenous Labor Supply"
   ]
  },
  {
   "cell_type": "markdown",
   "metadata": {},
   "source": [
    "## Exercise 2.1"
   ]
  },
  {
   "cell_type": "code",
   "execution_count": 1,
   "metadata": {},
   "outputs": [],
   "source": [
    "import numpy as np"
   ]
  },
  {
   "cell_type": "code",
   "execution_count": 2,
   "metadata": {},
   "outputs": [],
   "source": [
    "# calibration\n",
    "beta = 0.442\n",
    "delta = 0.6415\n",
    "sigma = 3\n",
    "A = 1\n",
    "alpha = 0.35\n",
    "nvec = (1.0, 1.0, .2)\n",
    "f_params = (nvec, A, alpha, delta)"
   ]
  },
  {
   "cell_type": "code",
   "execution_count": 3,
   "metadata": {},
   "outputs": [],
   "source": [
    "# firm FOC for capital\n",
    "def get_r(K, params):\n",
    "    nvec, A, alpha, delta = params\n",
    "    r = alpha*A*(sum(nvec)/K)**(1-alpha) - delta\n",
    "    return r\n",
    "    \n",
    "\n",
    "# firm FOC for labor\n",
    "def get_w(K, params):\n",
    "    nvec, A, alpha, delta = params\n",
    "    w = (1-alpha)*A*(K/sum(nvec))**alpha \n",
    "    return w"
   ]
  },
  {
   "cell_type": "code",
   "execution_count": 4,
   "metadata": {},
   "outputs": [],
   "source": [
    "def feasible(f_params, bvec_guess):\n",
    "    '''\n",
    "    This function checks the feasibility of a guess given parameters.\n",
    "    \n",
    "    Inputs:\n",
    "        f_params: a tuple of parameters (nvec, A, alpha, delta)\n",
    "        bvec_guess: a guess for the steady-state savings vector\n",
    "        \n",
    "    Outputs:\n",
    "        b_cnstr (Boolean vector of length 2):\n",
    "            denotes which element of bvec guess is likely responsible for any of the\n",
    "            consumption nonnegativity constraint violations identified in c cnstr\n",
    "        c_cnstr (Boolean vector of length 3):\n",
    "            the s-th element True if c_s <= 0 given f_params and bvec_guess \n",
    "        K_cnstr (Boolean vector of length 1):\n",
    "            True if K <= 0 given f_params and bvec_guess\n",
    "    '''\n",
    "    # unpack inputs\n",
    "    nvec, A, alpha, delta = f_params\n",
    "    b2,b3 = bvec_guess\n",
    "    \n",
    "    K = b2 + b3\n",
    "    \n",
    "    # capital feasibility constraint\n",
    "    K_cnstr = np.array([K <= 0])\n",
    "    \n",
    "    # consumption feasibility constraint\n",
    "    c1 = get_w(K,f_params)*nvec[0] - b2\n",
    "    c2 = get_w(K,f_params)*nvec[1] + (1+get_r(K,f_params))*b2 - b3\n",
    "    c3 = get_w(K,f_params)*nvec[2] + (1+get_r(K,f_params))*b3 \n",
    "    c_cnstr = np.array([c1 <= 0, c2 <= 0, c3 <=0])\n",
    "    \n",
    "    # responsible b guess\n",
    "    b_cnstr = np.full(2, False)\n",
    "    if c_cnstr[0] == True:\n",
    "        b_cnstr[0] = True\n",
    "    if c_cnstr[1] == True:\n",
    "        b_cnstr[0] = True\n",
    "        b_cnstr[1] = True\n",
    "    if c_cnstr[2] == True:\n",
    "        b_cnstr[1] = True\n",
    "\n",
    "    return b_cnstr, c_cnstr, K_cnstr"
   ]
  },
  {
   "cell_type": "code",
   "execution_count": 5,
   "metadata": {
    "scrolled": true
   },
   "outputs": [
    {
     "data": {
      "text/plain": [
       "(array([ True, False]), array([ True, False, False]), array([False]))"
      ]
     },
     "execution_count": 5,
     "metadata": {},
     "output_type": "execute_result"
    }
   ],
   "source": [
    "feasible(f_params, np.array([1.0, 1.2]))"
   ]
  },
  {
   "cell_type": "code",
   "execution_count": 6,
   "metadata": {},
   "outputs": [
    {
     "data": {
      "text/plain": [
       "(array([False, False]), array([False, False, False]), array([False]))"
      ]
     },
     "execution_count": 6,
     "metadata": {},
     "output_type": "execute_result"
    }
   ],
   "source": [
    "feasible(f_params, np.array([0.06, -0.001]))"
   ]
  },
  {
   "cell_type": "code",
   "execution_count": 7,
   "metadata": {},
   "outputs": [
    {
     "data": {
      "text/plain": [
       "(array([False, False]), array([False, False, False]), array([False]))"
      ]
     },
     "execution_count": 7,
     "metadata": {},
     "output_type": "execute_result"
    }
   ],
   "source": [
    "feasible(f_params, np.array([0.1, 0.1]))"
   ]
  },
  {
   "cell_type": "markdown",
   "metadata": {},
   "source": [
    "## Exercise 2.2"
   ]
  },
  {
   "cell_type": "code",
   "execution_count": 8,
   "metadata": {},
   "outputs": [],
   "source": [
    "import time\n",
    "import scipy.optimize as opt\n",
    "import matplotlib.pyplot as plt"
   ]
  },
  {
   "cell_type": "code",
   "execution_count": 9,
   "metadata": {},
   "outputs": [],
   "source": [
    "def EulErr(bvec, params):\n",
    "    \n",
    "    beta, sigma, nvec, L, A, alpha, delta, SS_tol = params\n",
    "    b2, b3 = bvec\n",
    "    K = b2 + b3\n",
    "    f_params = (nvec, A, alpha, delta)\n",
    "    \n",
    "    # wage and rental rate\n",
    "    w = get_w(K,f_params)\n",
    "    r = get_r(K,f_params)\n",
    "    \n",
    "    # consumption\n",
    "    c1 = w * nvec[0] - b2\n",
    "    c2 = w * nvec[1] + (1 + r) * b2 - b3\n",
    "    c3 = w * nvec[2] + (1 + r) * b3\n",
    "    \n",
    "    # Euler errors\n",
    "    EulErr1 = beta * (1 + r) * c2 ** (-sigma) - c1 ** (-sigma) \n",
    "    EulErr2 = beta * (1 + r) * c3 ** (-sigma) - c2 ** (-sigma) \n",
    "    \n",
    "    return EulErr1, EulErr2"
   ]
  },
  {
   "cell_type": "code",
   "execution_count": 10,
   "metadata": {},
   "outputs": [],
   "source": [
    "def get_SS(params, bvec_guess, SS_graphs):\n",
    "    '''\n",
    "    compute the steady-state equilibrium \n",
    "    \n",
    "    Inputs:\n",
    "    params: a tuple of the parameters for the model params \n",
    "        = (beta, sigma, nvec, L, A, alpha, delta, SS_tol)\n",
    "    bvec_guess: an initial guess of the steady-state savings\n",
    "    SS_graphs: a Boolean that generates a figure of the steady-state distribution\n",
    "    \n",
    "    Outputs: \n",
    "    a Python dictionary with the steady-state solution values\n",
    "    '''\n",
    "    # unpack parameters\n",
    "    beta, sigma, nvec, L, A, alpha, delta, SS_tol = params\n",
    "    f_params = (nvec, A, alpha, delta)\n",
    "    \n",
    "    start_time = time.perf_counter() # Place at beginning of get_SS()\n",
    "    \n",
    "    # solve Euler equations\n",
    "    ss = opt.root(EulErr, bvec_guess, tol = SS_tol, args = params) \n",
    "    b_ss = ss.x\n",
    "    K_ss = sum(b_ss)\n",
    "    w_ss = get_w(K_ss, f_params)\n",
    "    r_ss = get_r(K_ss, f_params)\n",
    "    c_ss = (w_ss * nvec[0] - b_ss[0],\n",
    "            w_ss * nvec[1] + (1 + r_ss) * b_ss[0] - b_ss[1],\n",
    "            w_ss * nvec[2] + (1 + r_ss) * b_ss[1])\n",
    "    Y_ss = A * K_ss**alpha * L**(1-alpha)\n",
    "    C_ss = sum(c_ss)\n",
    "    \n",
    "    ss_time = time.perf_counter() - start_time # Place at end of get_SS()\n",
    "    \n",
    "    EulErr_ss = EulErr(b_ss, params)\n",
    "    RCerr_ss = Y_ss - C_ss - delta * K_ss\n",
    "    \n",
    "    ss_output = { \n",
    "        'b_ss': b_ss, 'c_ss': c_ss, 'w_ss': w_ss, 'r_ss': r_ss,\n",
    "        'K_ss': K_ss, 'Y_ss': Y_ss, 'C_ss': C_ss,\n",
    "        'EulErr_ss': EulErr_ss, 'RCerr_ss': RCerr_ss,\n",
    "        'ss_time': ss_time}\n",
    "    \n",
    "    \n",
    "    if SS_graphs == True:\n",
    "        age = (1, 2, 3)\n",
    "        b = np.append(0,b_ss)\n",
    "        fig = plt.figure(figsize = (6,6))\n",
    "        plt.plot(age, c_ss, label=r'$\\bar{c}_s$', marker='x') \n",
    "        plt.plot(age, b, label=r'$\\bar{b}_s$', marker='o')\n",
    "        plt.legend()\n",
    "        plt.grid()\n",
    "        plt.xlabel(\"Age Period\")\n",
    "        plt.xticks(age)\n",
    "        plt.show()\n",
    "        \n",
    "    return ss_output"
   ]
  },
  {
   "cell_type": "code",
   "execution_count": 11,
   "metadata": {},
   "outputs": [
    {
     "data": {
      "image/png": "[encoded data removed]",
      "text/plain": [
       "<Figure size 432x432 with 1 Axes>"
      ]
     },
     "metadata": {
      "needs_background": "light"
     },
     "output_type": "display_data"
    },
    {
     "data": {
      "text/plain": [
       "{'b_ss': array([0.01931253, 0.0584111 ]),\n",
       " 'c_ss': (0.1824121275583131, 0.2096146803090817, 0.24087386507167502),\n",
       " 'w_ss': 0.20172465739033288,\n",
       " 'r_ss': 2.433062339132529,\n",
       " 'K_ss': 0.07772362575295153,\n",
       " 'Y_ss': 0.6827603788595883,\n",
       " 'C_ss': 0.6329006729390698,\n",
       " 'EulErr_ss': (-4.575042567012133e-10, 8.864304845701554e-10),\n",
       " 'RCerr_ss': 6.938893903907228e-17,\n",
       " 'ss_time': 0.00028620000000012524}"
      ]
     },
     "execution_count": 11,
     "metadata": {},
     "output_type": "execute_result"
    }
   ],
   "source": [
    "params = np.array([beta, sigma, nvec, sum(nvec), A, alpha, delta, 10**(-6)])\n",
    "get_SS(params, (0.1, 0.1), True)"
   ]
  },
  {
   "cell_type": "code",
   "execution_count": 12,
   "metadata": {},
   "outputs": [
    {
     "data": {
      "image/png": "[encoded data removed]",
      "text/plain": [
       "<Figure size 432x432 with 1 Axes>"
      ]
     },
     "metadata": {
      "needs_background": "light"
     },
     "output_type": "display_data"
    },
    {
     "data": {
      "text/plain": [
       "{'b_ss': array([0.02817692, 0.07686545]),\n",
       " 'c_ss': (0.1959752769965466, 0.22861594134257796, 0.2666930719051805),\n",
       " 'w_ss': 0.2241521958905792,\n",
       " 'r_ss': 1.8863765066381661,\n",
       " 'K_ss': 0.10504237016721853,\n",
       " 'Y_ss': 0.7586689707065758,\n",
       " 'C_ss': 0.691284290244305,\n",
       " 'EulErr_ss': (6.827269771747524e-08, 2.5113720880654e-08),\n",
       " 'RCerr_ss': 6.938893903907228e-17,\n",
       " 'ss_time': 0.00021229999999983207}"
      ]
     },
     "execution_count": 12,
     "metadata": {},
     "output_type": "execute_result"
    }
   ],
   "source": [
    "params = np.array([0.55, sigma, nvec, sum(nvec), A, alpha, delta, 10**(-6)])\n",
    "get_SS(params, (0.1, 0.1), True)"
   ]
  },
  {
   "cell_type": "markdown",
   "metadata": {},
   "source": [
    "## Exercise 2.3"
   ]
  },
  {
   "cell_type": "code",
   "execution_count": 13,
   "metadata": {},
   "outputs": [],
   "source": [
    "import scipy.linalg as la"
   ]
  },
  {
   "cell_type": "code",
   "execution_count": 14,
   "metadata": {},
   "outputs": [],
   "source": [
    "def Euler(bvec, wage, rent, params):  \n",
    "    '''\n",
    "    Inputs:\n",
    "    bguess: bvec\n",
    "    wages: w1, w2, w3\n",
    "    rental rates: r2, r3\n",
    "    parameters: params\n",
    "    '''\n",
    "    \n",
    "    beta, sigma, nvec, L, A, alpha, delta, SS_tol = params\n",
    "    b2, b3 = bvec\n",
    "    w1, w2, w3 = wage\n",
    "    r2, r3 = rent\n",
    "    \n",
    "    # consumption\n",
    "    c1 = w1 * nvec[0] - b2\n",
    "    c2 = w2 * nvec[1] + (1 + r2) * b2 - b3\n",
    "    c3 = w3 * nvec[2] + (1 + r3) * b3\n",
    "    \n",
    "    # Euler errors\n",
    "    EulErr1 = beta * (1 + r2) * c2 ** (-sigma) - c1 ** (-sigma) \n",
    "    EulErr2 = beta * (1 + r3) * c3 ** (-sigma) - c2 ** (-sigma) \n",
    "    \n",
    "    return EulErr1, EulErr2"
   ]
  },
  {
   "cell_type": "code",
   "execution_count": 15,
   "metadata": {},
   "outputs": [],
   "source": [
    "def Euler2(b3, b2, wage, rent, params):  \n",
    "    '''\n",
    "    Inputs:\n",
    "    bguess: b2, b3\n",
    "    wages: w2, w3\n",
    "    rental rates: r2, r3\n",
    "    parameters: params\n",
    "    '''\n",
    "    beta, sigma, nvec, L, A, alpha, delta, SS_tol = params\n",
    "    w2, w3 = wage\n",
    "    r2, r3 = rent\n",
    "    \n",
    "    # consumption\n",
    "    c2 = w2 * nvec[1] + (1 + r2) * b2 - b3\n",
    "    c3 = w3 * nvec[2] + (1 + r3) * b3\n",
    "    \n",
    "    # Euler errors\n",
    "    EulErr2 = beta * (1 + r3) * c3 ** (-sigma) - c2 ** (-sigma) \n",
    "    \n",
    "    return EulErr2"
   ]
  },
  {
   "cell_type": "code",
   "execution_count": 16,
   "metadata": {},
   "outputs": [],
   "source": [
    "params = np.array([beta, sigma, nvec, sum(nvec), A, alpha, delta, 10**(-6)])\n",
    "\n",
    "ss = get_SS(params, (0.1, 0.1), False)\n",
    "(b2_ss, b3_ss) = ss['b_ss']\n",
    "r_ss = ss['r_ss']\n",
    "w_ss = ss['w_ss']\n",
    "\n",
    "K_ss = b2_ss + b3_ss\n",
    "b2_0 = 0.8 * b2_ss\n",
    "b3_0 = 1.1 * b3_ss\n",
    "K_0 = b2_0 + b3_0\n",
    "\n",
    "T = 50\n",
    "xi = 0.6\n",
    "tol = 10**(-9)\n",
    "maxiter = 10**3\n",
    "numiter = 0\n",
    "diff = 1\n",
    "\n",
    "Kguess = np.linspace(K_0, K_ss, T)\n",
    "bguess = np.zeros([2,T])\n",
    "bguess[:,0] = (b2_0, b3_0)\n",
    "bguess[:,T-1] = (b2_ss, b3_ss)"
   ]
  },
  {
   "cell_type": "code",
   "execution_count": 17,
   "metadata": {},
   "outputs": [],
   "source": [
    "while numiter < maxiter and diff > tol:\n",
    "    wguess = get_w(Kguess, f_params)\n",
    "    rguess = get_r(Kguess, f_params)\n",
    "    \n",
    "    for t in range(0,T-1):\n",
    "        if t == 0:\n",
    "            wage = (wguess[t], wguess[t+1])\n",
    "            rent = (rguess[t], rguess[t+1]) \n",
    "            sol = opt.root(lambda b3: Euler2(b3, b2_0, wage, rent, params), 0.1)\n",
    "            bguess[1,t+1] = sol.x\n",
    "        else:     \n",
    "            wage = (wguess[t-1], wguess[t], wguess[t+1])\n",
    "            rent = (rguess[t], rguess[t+1])\n",
    "            sol = opt.root(lambda bvec: Euler(bvec,wage,rent,params), (0.1,0.1))\n",
    "            bvec = sol.x\n",
    "            bguess[0,t] = bvec[0]\n",
    "            bguess[1,t+1] = bvec[1]\n",
    "    \n",
    "    Knew = sum(bguess)\n",
    "    diff = la.norm(Knew - Kguess, 2)\n",
    "\n",
    "    Kupdate = xi * Knew + (1-xi) * Kguess\n",
    "    Kguess = np.copy(Kupdate)\n",
    "\n",
    "    numiter += 1"
   ]
  },
  {
   "cell_type": "code",
   "execution_count": 18,
   "metadata": {},
   "outputs": [],
   "source": [
    "matEulErr = np.zeros([2,T])\n",
    "\n",
    "for t in range(0, T-1):\n",
    "    if t == 0:\n",
    "        wage = (wguess[t], wguess[t+1])\n",
    "        rent = (rguess[t], rguess[t+1]) \n",
    "        matEulErr[1,t+1] = Euler2(bguess[1,1], b2_0, wage, rent, params)\n",
    "    else:\n",
    "        wage = (wguess[t-1], wguess[t], wguess[t+1])\n",
    "        rent = (rguess[t], rguess[t+1])\n",
    "        bvec = (bguess[0,t], bguess[1,t+1])\n",
    "        (EulErr1, EulErr2) = Euler(bvec,wage,rent,params)\n",
    "        matEulErr[0,t] = EulErr1\n",
    "        matEulErr[1,t+1] = EulErr2"
   ]
  },
  {
   "cell_type": "code",
   "execution_count": 19,
   "metadata": {},
   "outputs": [],
   "source": [
    "Kpath = Kupdate\n",
    "wpath = get_w(Kpath, f_params)\n",
    "rpath = get_r(Kpath, f_params)\n",
    "Ypath = A * Kpath**alpha * sum(nvec)**(1-alpha)\n",
    "c1path = wguess[:-1] * nvec[0] - bguess[0,1:]\n",
    "c2path = wguess[:-1] * nvec[1] + (1+rguess[:-1])*bguess[0,:-1] - bguess[1,1:]\n",
    "c3path = wguess[:-1] * nvec[2] + (1+rguess[:-1])*bguess[1,:-1]  \n",
    "Cpath = c1path + c2path + c3path\n",
    "vecRCerr = Ypath[:-1] - Cpath - Kpath[1:] + (1-delta)*Kpath[:-1]"
   ]
  },
  {
   "cell_type": "markdown",
   "metadata": {},
   "source": [
    "Maximum of the absolute values of all the Euler errors across the entire time path:"
   ]
  },
  {
   "cell_type": "code",
   "execution_count": 20,
   "metadata": {},
   "outputs": [
    {
     "data": {
      "text/plain": [
       "1.972452423615323e-09"
      ]
     },
     "execution_count": 20,
     "metadata": {},
     "output_type": "execute_result"
    }
   ],
   "source": [
    "np.abs(matEulErr).max()"
   ]
  },
  {
   "cell_type": "markdown",
   "metadata": {},
   "source": [
    "Maximum of the absolute value of all the aggregate resource constraint errors: "
   ]
  },
  {
   "cell_type": "code",
   "execution_count": 21,
   "metadata": {},
   "outputs": [
    {
     "data": {
      "text/plain": [
       "1.7935383039846542e-10"
      ]
     },
     "execution_count": 21,
     "metadata": {},
     "output_type": "execute_result"
    }
   ],
   "source": [
    "np.abs(vecRCerr).max()"
   ]
  },
  {
   "cell_type": "markdown",
   "metadata": {},
   "source": [
    "The equilibrium time paths"
   ]
  },
  {
   "cell_type": "code",
   "execution_count": 22,
   "metadata": {
    "scrolled": true
   },
   "outputs": [],
   "source": [
    "def plotpath(path,name,ss):\n",
    "    plt.plot(path[0:10], label=name)\n",
    "    plt.hlines(ss, 0, 10, label='steady state')\n",
    "    plt.xlabel('Time')\n",
    "    plt.grid()\n",
    "    plt.title('Time Path of ' + name)\n",
    "    plt.legend()\n",
    "    plt.show()"
   ]
  },
  {
   "cell_type": "code",
   "execution_count": 23,
   "metadata": {},
   "outputs": [
    {
     "data": {
      "image/png": "[encoded data removed]",
      "text/plain": [
       "<Figure size 432x288 with 1 Axes>"
      ]
     },
     "metadata": {
      "needs_background": "light"
     },
     "output_type": "display_data"
    }
   ],
   "source": [
    "plotpath(Kpath,\"Capital\", K_ss)"
   ]
  },
  {
   "cell_type": "code",
   "execution_count": 24,
   "metadata": {},
   "outputs": [
    {
     "data": {
      "image/png": "[encoded data removed]",
      "text/plain": [
       "<Figure size 432x288 with 1 Axes>"
      ]
     },
     "metadata": {
      "needs_background": "light"
     },
     "output_type": "display_data"
    }
   ],
   "source": [
    "plotpath(wpath,\"Wage\", w_ss)"
   ]
  },
  {
   "cell_type": "code",
   "execution_count": 25,
   "metadata": {},
   "outputs": [
    {
     "data": {
      "image/png": "[encoded data removed]",
      "text/plain": [
       "<Figure size 432x288 with 1 Axes>"
      ]
     },
     "metadata": {
      "needs_background": "light"
     },
     "output_type": "display_data"
    }
   ],
   "source": [
    "plotpath(rpath,\"Rent\", r_ss)"
   ]
  },
  {
   "cell_type": "code",
   "execution_count": 26,
   "metadata": {},
   "outputs": [
    {
     "data": {
      "text/plain": [
       "(array([ 2, 10, 11, 12, 13, 14, 15, 16, 17, 18, 19, 20, 21, 22, 23, 24, 25,\n",
       "        26, 27, 28, 29, 30, 31, 32, 33, 34, 35, 36, 37, 38, 39, 40, 41, 42,\n",
       "        43, 44, 45, 46, 47, 48, 49], dtype=int64),)"
      ]
     },
     "execution_count": 26,
     "metadata": {},
     "output_type": "execute_result"
    }
   ],
   "source": [
    "np.where(np.abs(Kpath - K_ss)< 0.00001)"
   ]
  }
 ],
 "metadata": {
  "kernelspec": {
   "display_name": "Python 3",
   "language": "python",
   "name": "python3"
  },
  "language_info": {
   "codemirror_mode": {
    "name": "ipython",
    "version": 3
   },
   "file_extension": ".py",
   "mimetype": "text/x-python",
   "name": "python",
   "nbconvert_exporter": "python",
   "pygments_lexer": "ipython3",
   "version": "3.7.3"
  }
 },
 "nbformat": 4,
 "nbformat_minor": 2
}
