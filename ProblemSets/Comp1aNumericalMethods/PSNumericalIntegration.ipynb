{
 "cells": [
  {
   "cell_type": "markdown",
   "metadata": {},
   "source": [
    "# Numerical Integration"
   ]
  },
  {
   "cell_type": "markdown",
   "metadata": {},
   "source": [
    "## Exercise 2.1 Three Newton-Cotes Methods"
   ]
  },
  {
   "cell_type": "code",
   "execution_count": 1,
   "metadata": {},
   "outputs": [],
   "source": [
    "import numpy as np"
   ]
  },
  {
   "cell_type": "code",
   "execution_count": 2,
   "metadata": {},
   "outputs": [],
   "source": [
    "def newtoncotes(g, a, b, N, method):\n",
    "    if method == 'midpoint':\n",
    "        sum = 0\n",
    "        interval = np.linspace(a, b, N + 1)\n",
    "        step = (b - a) / N\n",
    "        for i in range(0, N):\n",
    "            left = interval[i]\n",
    "            right = interval[i+1]\n",
    "            midpoint = (left + right) / 2\n",
    "            sum = sum + g(midpoint)*step\n",
    "            \n",
    "    elif method == 'trapezoid':\n",
    "        sum = 0\n",
    "        interval = np.linspace(a, b, N + 1)\n",
    "        step = (b - a) / N\n",
    "        for i in range(0, N):\n",
    "            left = interval[i]\n",
    "            right = interval[i+1]\n",
    "            sum = sum + (g(left) + g(right))*step/2\n",
    "    \n",
    "    elif method == 'Simpsons':\n",
    "        sum = 0\n",
    "        interval = np.linspace(a, b, N + 1)\n",
    "        step = (b - a) / N\n",
    "        for i in range(0, N):\n",
    "            left = interval[i]\n",
    "            right = interval[i+1]\n",
    "            midpoint = (left + right) / 2\n",
    "            sum = sum + (g(left)+4*g(midpoint)+g(right))*step/6\n",
    "    \n",
    "    else:\n",
    "        print(\"Please specify a valid method from 'midpoint', 'trapezoid', 'Simpsons'.\")\n",
    "        \n",
    "    return sum"
   ]
  },
  {
   "cell_type": "code",
   "execution_count": 3,
   "metadata": {},
   "outputs": [
    {
     "name": "stdout",
     "output_type": "stream",
     "text": [
      "Analytical: 4373.33\n",
      "Midpoint: 4371.964759999997\n",
      "Trapezoid: 4376.070559999995\n",
      "Simpsons: 4373.333359999999\n"
     ]
    }
   ],
   "source": [
    "g = lambda x: 0.1*x**4 -1.5*x**3 + 0.53*x**2 + 2*x + 1\n",
    "a = -10\n",
    "b = 10\n",
    "N = 100\n",
    "\n",
    "print(\"Analytical: 4373.33\")\n",
    "print(\"Midpoint: \" + str(newtoncotes(g, a, b, N, 'midpoint')))\n",
    "print(\"Trapezoid: \" + str(newtoncotes(g, a, b, N, 'trapezoid')))\n",
    "print(\"Simpsons: \" + str(newtoncotes(g, a, b, N, 'Simpsons')))"
   ]
  },
  {
   "cell_type": "markdown",
   "metadata": {},
   "source": [
    "## Exercise 2.2 Newton-Cotes Discrete Approximation of Normal"
   ]
  },
  {
   "cell_type": "code",
   "execution_count": 4,
   "metadata": {},
   "outputs": [],
   "source": [
    "import scipy.stats"
   ]
  },
  {
   "cell_type": "code",
   "execution_count": 5,
   "metadata": {},
   "outputs": [],
   "source": [
    "def ncnormal(mu, sd, N, k):\n",
    "    Z = np.linspace(mu-k*sd, mu+k*sd, N)\n",
    "    w = np.zeros(N)\n",
    "    \n",
    "    for i in range(0, N):\n",
    "        if i == 0:\n",
    "            w[i] = scipy.stats.norm.cdf((Z[0]+Z[1])/2, mu, sd)\n",
    "        elif i == N-1:\n",
    "            w[i] = 1 - scipy.stats.norm.cdf((Z[N-2]+Z[N-1])/2, mu, sd)\n",
    "        else:\n",
    "            w[i] = scipy.stats.norm.cdf((Z[i]+Z[i+1])/2, mu, sd) - \\\n",
    "            scipy.stats.norm.cdf((Z[i-1]+Z[i])/2, mu, sd)\n",
    "        \n",
    "    return Z, w"
   ]
  },
  {
   "cell_type": "code",
   "execution_count": 6,
   "metadata": {},
   "outputs": [
    {
     "data": {
      "text/plain": [
       "(array([-3. , -2.4, -1.8, -1.2, -0.6,  0. ,  0.6,  1.2,  1.8,  2.4,  3. ]),\n",
       " array([0.00346697, 0.01439745, 0.04894278, 0.11725292, 0.19802845,\n",
       "        0.23582284, 0.19802845, 0.11725292, 0.04894278, 0.01439745,\n",
       "        0.00346697]))"
      ]
     },
     "execution_count": 6,
     "metadata": {},
     "output_type": "execute_result"
    }
   ],
   "source": [
    "mu = 0\n",
    "sd = 1\n",
    "k = 3\n",
    "N = 11\n",
    "\n",
    "ncnormal(mu, sd, N, k)"
   ]
  },
  {
   "cell_type": "markdown",
   "metadata": {},
   "source": [
    "## Exercise 2.3 Discrete Approximation of Log-Normal"
   ]
  },
  {
   "cell_type": "code",
   "execution_count": 7,
   "metadata": {},
   "outputs": [],
   "source": [
    "def nclognorm(mu, sd, N, k):\n",
    "    Z, w = ncnormal(mu, sd, N, k)\n",
    "    A = np.exp(Z)\n",
    "    return A, w"
   ]
  },
  {
   "cell_type": "code",
   "execution_count": 8,
   "metadata": {},
   "outputs": [
    {
     "data": {
      "text/plain": [
       "(array([ 0.04978707,  0.09071795,  0.16529889,  0.30119421,  0.54881164,\n",
       "         1.        ,  1.8221188 ,  3.32011692,  6.04964746, 11.02317638,\n",
       "        20.08553692]),\n",
       " array([0.00346697, 0.01439745, 0.04894278, 0.11725292, 0.19802845,\n",
       "        0.23582284, 0.19802845, 0.11725292, 0.04894278, 0.01439745,\n",
       "        0.00346697]))"
      ]
     },
     "execution_count": 8,
     "metadata": {},
     "output_type": "execute_result"
    }
   ],
   "source": [
    "nclognorm(mu, sd, N, k)"
   ]
  },
  {
   "cell_type": "markdown",
   "metadata": {},
   "source": [
    "## Exercise 2.4 Approximated Mean of Log-Normal"
   ]
  },
  {
   "cell_type": "code",
   "execution_count": 9,
   "metadata": {},
   "outputs": [
    {
     "name": "stdout",
     "output_type": "stream",
     "text": [
      "Approximation: 50352.456192765916\n",
      "Analytical: 50011.087008521754\n"
     ]
    }
   ],
   "source": [
    "mu = 10.5\n",
    "sd = 0.8\n",
    "N = 11\n",
    "k = 3\n",
    "\n",
    "Y, w = nclognorm(mu, sd, N, k)\n",
    "print(\"Approximation: \" + str(np.dot(Y,w))) \n",
    "print(\"Analytical: \" + str(np.exp(mu+sd**2/2))) "
   ]
  },
  {
   "cell_type": "markdown",
   "metadata": {},
   "source": [
    "## Exercise 3.1 Gaussian Quadrature"
   ]
  },
  {
   "cell_type": "code",
   "execution_count": 10,
   "metadata": {},
   "outputs": [],
   "source": [
    "def quadsys(x):\n",
    "    w1, w2, w3, x1, x2, x3 = x\n",
    "    z0 = w1 + w2 + w3 - 20\n",
    "    z1 = w1*x1 + w2*x2 + w3*x3 - 0\n",
    "    z2 = w1*x1**2 + w2*x2**2 + w3*x3**2 - 2000/3\n",
    "    z3 = w1*x1**3 + w2*x2**3 + w3*x3**3 - 0\n",
    "    z4 = w1*x1**4 + w2*x2**4 + w3*x3**4 - 40000\n",
    "    z5 = w1*x1**5 + w2*x2**5 + w3*x3**5 - 0\n",
    "    return z0, z1, z2, z3, z4, z5"
   ]
  },
  {
   "cell_type": "code",
   "execution_count": 11,
   "metadata": {},
   "outputs": [
    {
     "name": "stdout",
     "output_type": "stream",
     "text": [
      "Gaussian Quadrature Approximation:\n"
     ]
    },
    {
     "data": {
      "text/plain": [
       "4373.333333343174"
      ]
     },
     "execution_count": 11,
     "metadata": {},
     "output_type": "execute_result"
    }
   ],
   "source": [
    "import scipy.optimize\n",
    "w1, w2, w3, x1, x2, x3 = scipy.optimize.root(quadsys,[0,0,0,-10,0,10]).x\n",
    "print(\"Gaussian Quadrature Approximation:\")\n",
    "w1*g(x1) + w2*g(x2) + w3*g(x3)"
   ]
  },
  {
   "cell_type": "markdown",
   "metadata": {},
   "source": [
    "## Exercise 3.2 Python Gaussian quadrature Command"
   ]
  },
  {
   "cell_type": "code",
   "execution_count": 12,
   "metadata": {},
   "outputs": [
    {
     "data": {
      "text/plain": [
       "(4373.333333333334, 8.109531705284936e-11)"
      ]
     },
     "execution_count": 12,
     "metadata": {},
     "output_type": "execute_result"
    }
   ],
   "source": [
    "import scipy.integrate\n",
    "scipy.integrate.quad(g,a,b)"
   ]
  },
  {
   "cell_type": "markdown",
   "metadata": {},
   "source": [
    "## Exercise 4.1 Monte Carlo Integration"
   ]
  },
  {
   "cell_type": "code",
   "execution_count": 13,
   "metadata": {},
   "outputs": [],
   "source": [
    "import scipy.stats as sts"
   ]
  },
  {
   "cell_type": "code",
   "execution_count": 14,
   "metadata": {},
   "outputs": [],
   "source": [
    "def mcinteg(g, Omega, N):\n",
    "    V = (Omega[0][1] - Omega[0][0]) * (Omega[1][1] - Omega[1][0])\n",
    "    np.random.seed(seed=25)\n",
    "    x = np.random.uniform(Omega[0][0], Omega[0][1], N)\n",
    "    y = np.random.uniform(Omega[1][0], Omega[1][1], N)\n",
    "    val = g(x, y)\n",
    "    return V * np.sum(val) / N"
   ]
  },
  {
   "cell_type": "code",
   "execution_count": 15,
   "metadata": {},
   "outputs": [
    {
     "name": "stdout",
     "output_type": "stream",
     "text": [
      "The smallest number of draws to match the 4th decimal: 657\n",
      "The approximated pi: 3.141552511415525\n"
     ]
    }
   ],
   "source": [
    "g = lambda x, y: (x**2 + y**2) <= 1\n",
    "Omega = [[-1,1],[-1,1]]\n",
    "\n",
    "diff = 1\n",
    "N = 0\n",
    "while diff > 1e-04:\n",
    "    N += 1\n",
    "    diff = abs(mcinteg(g, Omega, N) - 3.1415)\n",
    "print(\"The smallest number of draws to match the 4th decimal: \" + str(N))\n",
    "print(\"The approximated pi: \" + str(mcinteg(g, Omega, N)))"
   ]
  }
 ],
 "metadata": {
  "kernelspec": {
   "display_name": "Python 3",
   "language": "python",
   "name": "python3"
  },
  "language_info": {
   "codemirror_mode": {
    "name": "ipython",
    "version": 3
   },
   "file_extension": ".py",
   "mimetype": "text/x-python",
   "name": "python",
   "nbconvert_exporter": "python",
   "pygments_lexer": "ipython3",
   "version": "3.7.3"
  }
 },
 "nbformat": 4,
 "nbformat_minor": 2
}
