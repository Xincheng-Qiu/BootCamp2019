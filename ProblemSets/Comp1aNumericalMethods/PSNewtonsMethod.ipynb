{
 "cells": [
  {
   "cell_type": "markdown",
   "metadata": {},
   "source": [
    "# Newton's Method"
   ]
  },
  {
   "cell_type": "markdown",
   "metadata": {},
   "source": [
    "## Problem 1: Univariate Newton's Method"
   ]
  },
  {
   "cell_type": "code",
   "execution_count": 1,
   "metadata": {},
   "outputs": [],
   "source": [
    "import numpy as np\n",
    "from scipy import optimize"
   ]
  },
  {
   "cell_type": "code",
   "execution_count": 2,
   "metadata": {},
   "outputs": [],
   "source": [
    "def newton(f, x0, fp, tol = 10**(-5), maxiters = 15):\n",
    "    for k in range(maxiters):\n",
    "        x1 = x0 - f(x0) / fp(x0)\n",
    "        if abs(x1 - x0) < tol:\n",
    "            break\n",
    "        x0 = x1\n",
    "    return x1"
   ]
  },
  {
   "cell_type": "code",
   "execution_count": 3,
   "metadata": {},
   "outputs": [
    {
     "name": "stdout",
     "output_type": "stream",
     "text": [
      "SciPy solver solution: 0.6931471805599592\n",
      "My solver solution: 0.6931471805600254\n"
     ]
    }
   ],
   "source": [
    "f = lambda x: np.exp(x) - 2\n",
    "fp = lambda x: np.exp(x)\n",
    "print(\"SciPy solver solution: \" + str(optimize.newton(f,0)))\n",
    "print(\"My solver solution: \" + str(newton(f, 0, fp)))"
   ]
  },
  {
   "cell_type": "code",
   "execution_count": 4,
   "metadata": {},
   "outputs": [
    {
     "name": "stdout",
     "output_type": "stream",
     "text": [
      "SciPy solver solution: 1.3160740129524924\n",
      "My solver solution: 1.3160740129543826\n"
     ]
    }
   ],
   "source": [
    "g = lambda x: x**4 - 3\n",
    "gp = lambda x: 4*x**3\n",
    "print(\"SciPy solver solution: \" + str(optimize.newton(g,1)))\n",
    "print(\"My solver solution: \" + str(newton(g, 1, gp)))"
   ]
  },
  {
   "cell_type": "markdown",
   "metadata": {},
   "source": [
    "## Problem 3: Backtracking"
   ]
  },
  {
   "cell_type": "code",
   "execution_count": 5,
   "metadata": {},
   "outputs": [],
   "source": [
    "def newtonback(f, x0, fp, tol = 10**(-5), maxiters = 15, alpha = 1):\n",
    "    for k in range(maxiters):\n",
    "        x1 = x0 - alpha * f(x0) / fp(x0)\n",
    "        if abs(x1 - x0) < tol:\n",
    "            break\n",
    "        x0 = x1\n",
    "    return x1"
   ]
  },
  {
   "cell_type": "code",
   "execution_count": 6,
   "metadata": {},
   "outputs": [
    {
     "data": {
      "text/plain": [
       "6.400000000000125e-07"
      ]
     },
     "execution_count": 6,
     "metadata": {},
     "output_type": "execute_result"
    }
   ],
   "source": [
    "f = lambda x: np.sign(x) * np.power(np.abs(x), 1./3)\n",
    "fp = lambda x: np.power(np.abs(x), -2./3) / 3\n",
    "\n",
    "newtonback(f,0.01,fp,alpha = 0.4)"
   ]
  },
  {
   "cell_type": "markdown",
   "metadata": {},
   "source": [
    "## Problem 4: Optimal Alpha"
   ]
  },
  {
   "cell_type": "code",
   "execution_count": 7,
   "metadata": {},
   "outputs": [],
   "source": [
    "def numiter(f, x0, fp, alpha = 1, tol = 10**(-5), maxiters = 15):\n",
    "    num = maxiters  \n",
    "    for k in range(maxiters):\n",
    "        x1 = x0 - alpha * f(x0) / fp(x0)\n",
    "        if abs(x1 - x0) < tol:\n",
    "            num = k + 1\n",
    "            break\n",
    "        x0 = x1\n",
    "    return num"
   ]
  },
  {
   "cell_type": "code",
   "execution_count": 8,
   "metadata": {},
   "outputs": [
    {
     "data": {
      "text/plain": [
       "<Figure size 640x480 with 1 Axes>"
      ]
     },
     "metadata": {},
     "output_type": "display_data"
    },
    {
     "name": "stdout",
     "output_type": "stream",
     "text": [
      "The optimal alpha is 0.33\n"
     ]
    }
   ],
   "source": [
    "import matplotlib.pyplot as plt\n",
    "\n",
    "alpha = np.linspace(0.01,1,100)\n",
    "num = lambda a: numiter(f, 0.01, fp, a)\n",
    "numiters = np.array([num(a) for a in alpha])\n",
    "\n",
    "plt.plot(alpha, numiters)\n",
    "plt.xlabel(\"alpha\")\n",
    "plt.ylabel(\"Number of Iterations\")\n",
    "plt.show()\n",
    "\n",
    "print(\"The optimal alpha is \" + str(alpha[np.argmin(numiters)]))"
   ]
  },
  {
   "cell_type": "markdown",
   "metadata": {},
   "source": [
    "## Problem 7: Basins of Attraction"
   ]
  },
  {
   "cell_type": "code",
   "execution_count": 9,
   "metadata": {},
   "outputs": [],
   "source": [
    "def basin(f,Df,zeros,bounds,res,iters):\n",
    "    rmin, rmax, imin, imax = bounds\n",
    "    x_real = np.linspace(rmin, rmax, res)\n",
    "    x_imag = np.linspace(imin, imax, res)\n",
    "    X_real, X_imag = np.meshgrid(x_real, x_imag)\n",
    "    X_0 = X_real + 1j*X_imag\n",
    "    for i in range(iters):\n",
    "        X_1 = X_0 - f(X_0)/Df(X_0)\n",
    "        X_0 = X_1\n",
    "    Y = []\n",
    "    for x in X_0.flatten():\n",
    "        dist = (zeros - x)**2        \n",
    "        Y.append(np.argmin(dist))\n",
    "    Y = np.array(Y)\n",
    "    Y = np.reshape(Y, (res,res))\n",
    "    plt.pcolormesh(X_real, X_imag, Y, cmap=\"brg\")   "
   ]
  },
  {
   "cell_type": "code",
   "execution_count": 10,
   "metadata": {},
   "outputs": [],
   "source": [
    "bounds = [-1.5, 1.5, -1.5, 1.5]\n",
    "res = 300\n",
    "iters = 30"
   ]
  },
  {
   "cell_type": "markdown",
   "metadata": {},
   "source": [
    "### Test Using $f(x)=x^3-1$"
   ]
  },
  {
   "cell_type": "code",
   "execution_count": 11,
   "metadata": {},
   "outputs": [
    {
     "data": {
      "image/png": "[encoded data removed]",
      "text/plain": [
       "<Figure size 432x288 with 1 Axes>"
      ]
     },
     "metadata": {
      "needs_background": "light"
     },
     "output_type": "display_data"
    }
   ],
   "source": [
    "f = lambda x: np.power(x, 3) - 1\n",
    "Df = lambda x: 3 * np.power(x, 2)\n",
    "zeros = np.array([1, -1/2 + np.sqrt(3)/2j, -1/2 - np.sqrt(3)/2j])\n",
    "basin(f,Df,zeros,bounds,res,iters)"
   ]
  },
  {
   "cell_type": "markdown",
   "metadata": {},
   "source": [
    "### Test Using $f(x) = x^3 - x$"
   ]
  },
  {
   "cell_type": "code",
   "execution_count": 12,
   "metadata": {},
   "outputs": [
    {
     "data": {
      "image/png": "[encoded data removed]",
      "text/plain": [
       "<Figure size 432x288 with 1 Axes>"
      ]
     },
     "metadata": {
      "needs_background": "light"
     },
     "output_type": "display_data"
    }
   ],
   "source": [
    "f = lambda x: np.power(x, 3) - x\n",
    "Df = lambda x: 3 * np.power(x, 2) - 1\n",
    "zeros = np.array([-1,0,1])\n",
    "basin(f,Df,zeros,bounds,res,iters)"
   ]
  }
 ],
 "metadata": {
  "kernelspec": {
   "display_name": "Python 3",
   "language": "python",
   "name": "python3"
  },
  "language_info": {
   "codemirror_mode": {
    "name": "ipython",
    "version": 3
   },
   "file_extension": ".py",
   "mimetype": "text/x-python",
   "name": "python",
   "nbconvert_exporter": "python",
   "pygments_lexer": "ipython3",
   "version": "3.7.3"
  }
 },
 "nbformat": 4,
 "nbformat_minor": 2
}
