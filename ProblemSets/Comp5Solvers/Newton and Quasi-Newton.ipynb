{
 "cells": [
  {
   "cell_type": "markdown",
   "metadata": {},
   "source": [
    "## Problem 1: Newton’s Method"
   ]
  },
  {
   "cell_type": "code",
   "execution_count": 1,
   "metadata": {},
   "outputs": [],
   "source": [
    "import numpy as np\n",
    "from scipy import linalg as la\n",
    "from scipy import optimize as opt"
   ]
  },
  {
   "cell_type": "code",
   "execution_count": 2,
   "metadata": {},
   "outputs": [],
   "source": [
    "def newton(gradient,hessian,x0,maxiter = 1e4,tol = 1e-6):\n",
    "    diff = 1\n",
    "    numiter = 1\n",
    "    isconverged = False\n",
    "    while diff > tol and numiter < maxiter:\n",
    "        g = gradient(x0)\n",
    "        H = hessian(x0)\n",
    "        x1 = x0 - la.solve(H,g)\n",
    "        numiter += 1\n",
    "        diff = la.norm(x1-x0)\n",
    "        x0 = x1\n",
    "        \n",
    "    if diff < tol:\n",
    "        isconverged = True\n",
    "        \n",
    "    return x1, isconverged, numiter"
   ]
  },
  {
   "cell_type": "code",
   "execution_count": 3,
   "metadata": {
    "scrolled": true
   },
   "outputs": [
    {
     "data": {
      "text/plain": [
       "(array([1., 1.]), True, 7)"
      ]
     },
     "execution_count": 3,
     "metadata": {},
     "output_type": "execute_result"
    }
   ],
   "source": [
    "# Rosenbrock function\n",
    "x0 = np.array([-2,2])\n",
    "f = opt.rosen\n",
    "df = opt.rosen_der\n",
    "d2f = opt.rosen_hess \n",
    "\n",
    "newton(df,d2f,x0)"
   ]
  },
  {
   "cell_type": "code",
   "execution_count": 4,
   "metadata": {},
   "outputs": [
    {
     "name": "stdout",
     "output_type": "stream",
     "text": [
      "Optimization terminated successfully.\n",
      "         Current function value: 0.000000\n",
      "         Iterations: 35\n",
      "         Function evaluations: 42\n",
      "         Gradient evaluations: 42\n"
     ]
    },
    {
     "data": {
      "text/plain": [
       "array([1.00000021, 1.00000045])"
      ]
     },
     "execution_count": 4,
     "metadata": {},
     "output_type": "execute_result"
    }
   ],
   "source": [
    "opt.fmin_bfgs(f=f, x0=[-2,2], fprime=df, maxiter=50)"
   ]
  },
  {
   "cell_type": "markdown",
   "metadata": {},
   "source": [
    "## Problem 2: BFGS"
   ]
  },
  {
   "cell_type": "code",
   "execution_count": 5,
   "metadata": {},
   "outputs": [],
   "source": [
    "def bfgs(gradient,x0,maxiter = 1e+4,tol = 1e-6):\n",
    "    dfnorm = 1\n",
    "    numiter = 0\n",
    "    isconverged = False\n",
    "    n = len(x0)\n",
    "    Ainv0 = np.eye(n)\n",
    "    \n",
    "    while dfnorm > tol and numiter < maxiter:\n",
    "        dfx0 = gradient(x0)\n",
    "        x1 = x0 - Ainv0 @ dfx0\n",
    "        s = x1 - x0\n",
    "        dfx1 = gradient(x1)\n",
    "        y = dfx1 - dfx0\n",
    "        if (s @ y)**2 < 1e-20:\n",
    "            break  \n",
    "        Ainv1 = Ainv0 + (s@y + y @ Ainv0 @ y)*np.outer(s,s)/((s@y)**2) - (Ainv0@np.outer(y,s)+np.outer(s,y)@Ainv0)/(s@y) \n",
    "        numiter += 1\n",
    "        x0 = x1\n",
    "        Ainv0 = Ainv1\n",
    "        dfnorm = la.norm(dfx1,np.inf)\n",
    "        \n",
    "    if la.norm(dfx1,np.inf) < tol:\n",
    "        isconverged = True\n",
    "        \n",
    "    return x1, isconverged, numiter"
   ]
  },
  {
   "cell_type": "code",
   "execution_count": 6,
   "metadata": {},
   "outputs": [
    {
     "data": {
      "text/plain": [
       "(array([0.99999999, 0.99999998]), True, 148)"
      ]
     },
     "execution_count": 6,
     "metadata": {},
     "output_type": "execute_result"
    }
   ],
   "source": [
    "bfgs(df,x0)"
   ]
  },
  {
   "cell_type": "markdown",
   "metadata": {},
   "source": [
    "## Problem 3"
   ]
  },
  {
   "cell_type": "code",
   "execution_count": 7,
   "metadata": {},
   "outputs": [],
   "source": [
    "import time\n",
    "import matplotlib.pyplot as plt"
   ]
  },
  {
   "cell_type": "code",
   "execution_count": 8,
   "metadata": {},
   "outputs": [],
   "source": [
    "def compare(N):\n",
    "\n",
    "    numiter_newton = np.zeros(N)\n",
    "    time_newton = np.zeros(N)\n",
    "    numiter_bfgs = np.zeros(N)\n",
    "    time_bfgs = np.zeros(N)\n",
    "    numiter_spbfgs = np.zeros(N)\n",
    "    time_spbfgs = np.zeros(N)\n",
    "\n",
    "    for i in range(N):\n",
    "        # Sample a random initial guess\n",
    "        x0 = np.random.uniform(-3,3,2)\n",
    "\n",
    "        # Newton's method\n",
    "        start_newton = time.perf_counter()\n",
    "        result = newton(df,d2f,x0,maxiter = 1e5,tol = 1e-6)\n",
    "        time_newton[i] = time.perf_counter() - start_newton\n",
    "        numiter_newton[i] = result[2]\n",
    "\n",
    "        # BFGS\n",
    "        start_bfgs = time.perf_counter()\n",
    "        result = bfgs(df,x0,maxiter = 1e5,tol = 1e-6)\n",
    "        time_bfgs[i] = time.perf_counter() - start_bfgs\n",
    "        numiter_bfgs[i] = result[2]\n",
    "\n",
    "        # SciPy's BFGS\n",
    "        start_spbfgs = time.perf_counter()\n",
    "        result = opt.fmin_bfgs(f, x0, df, disp=False, retall=True)\n",
    "        time_spbfgs[i] =  time.perf_counter() - start_spbfgs\n",
    "        numiter_spbfgs[i] = len(result[1])\n",
    "\n",
    "\n",
    "    fig = plt.figure(figsize=(8,8))\n",
    "    plt.loglog()\n",
    "    plt.scatter(time_newton, numiter_newton, alpha=0.5, label='Newton\\'s Method')\n",
    "    plt.scatter(time_bfgs, numiter_bfgs, alpha=0.5, label='BFGS')\n",
    "    plt.scatter(time_spbfgs, numiter_spbfgs, alpha=0.5, label='scipy.optimize.fmin_bfgs()')\n",
    "    plt.xlabel('Time (seconds)')\n",
    "    plt.ylabel('Iterations')\n",
    "    plt.legend()\n",
    "    plt.show()"
   ]
  },
  {
   "cell_type": "code",
   "execution_count": 9,
   "metadata": {},
   "outputs": [
    {
     "data": {
      "image/png": "[encoded data removed]",
      "text/plain": [
       "<Figure size 576x576 with 1 Axes>"
      ]
     },
     "metadata": {
      "needs_background": "light"
     },
     "output_type": "display_data"
    }
   ],
   "source": [
    "compare(100)"
   ]
  },
  {
   "cell_type": "markdown",
   "metadata": {},
   "source": [
    "## Problem 4: The Gauss-Newton Method"
   ]
  },
  {
   "cell_type": "code",
   "execution_count": 10,
   "metadata": {},
   "outputs": [],
   "source": [
    "def gauss_newton(r,J,x0,maxiter,tol):\n",
    "    numiter = 0\n",
    "    diff = 1\n",
    "    isconverged = False\n",
    "    \n",
    "    while numiter < maxiter and diff > tol:\n",
    "        rxk = r(x0)\n",
    "        Jxk = J(x0)\n",
    "        zk = la.solve(Jxk.T @ Jxk, Jxk.T @ rxk)\n",
    "        x1 = x0 - zk\n",
    "        diff = la.norm(x1-x0,np.inf)\n",
    "        numiter += 1\n",
    "        x0 = x1\n",
    "        \n",
    "    if diff < tol:\n",
    "        isconverged = True\n",
    "    \n",
    "    return x1,numiter,isconverged"
   ]
  },
  {
   "cell_type": "code",
   "execution_count": 11,
   "metadata": {},
   "outputs": [],
   "source": [
    "# Generate random data for t = 0, 1, ..., 10.\n",
    "T = np.arange(10)\n",
    "y = 3*np.sin(0.5*T)+ 0.5*np.random.randn(10) # Perturbed data.\n",
    "\n",
    "# Define the model function and the residual (based on the data).\n",
    "model = lambda x, t: x[0]*np.sin(x[1]*t) # phi(x,t)\n",
    "residual = lambda x: model(x, T) - y # r(x) = phi(x,t) - y\n",
    "\n",
    "# Define the Jacobian of the residual function, computed by hand.\n",
    "jac = lambda x: np.column_stack((np.sin(x[1]*T), x[0]*T*np.cos(x[1]*T)))"
   ]
  },
  {
   "cell_type": "code",
   "execution_count": 12,
   "metadata": {},
   "outputs": [
    {
     "data": {
      "text/plain": [
       "(array([3.13140049, 0.47507555]), 8, True)"
      ]
     },
     "execution_count": 12,
     "metadata": {},
     "output_type": "execute_result"
    }
   ],
   "source": [
    "x0 = np.array([2.5,.6])\n",
    "gauss_newton(residual,jac,x0,maxiter=1e4,tol=1e-6)"
   ]
  },
  {
   "cell_type": "code",
   "execution_count": 13,
   "metadata": {},
   "outputs": [
    {
     "data": {
      "text/plain": [
       "(array([3.13139955, 0.47507582]), 1)"
      ]
     },
     "execution_count": 13,
     "metadata": {},
     "output_type": "execute_result"
    }
   ],
   "source": [
    "opt.leastsq(func=residual, x0=np.array([2.5,.6]), Dfun=jac)"
   ]
  },
  {
   "cell_type": "markdown",
   "metadata": {},
   "source": [
    "## Problem 5: Application of Non-linear Least Squares"
   ]
  },
  {
   "cell_type": "code",
   "execution_count": 14,
   "metadata": {},
   "outputs": [],
   "source": [
    "pop = np.load('population.npy')\n",
    "y = pop[:,1]\n",
    "T = pop[:,0]"
   ]
  },
  {
   "cell_type": "code",
   "execution_count": 15,
   "metadata": {},
   "outputs": [],
   "source": [
    "model_exp = lambda x, t: x[0]*np.exp(x[1]*(t+x[2]))\n",
    "residual_exp = lambda x: model_exp(x,T) - y\n",
    "jac_exp = lambda x: np.column_stack((np.exp(x[1]*(T+x[2])),\n",
    "                                     x[0]*(T+x[2])*np.exp(x[1]*(T+x[2])),\n",
    "                                     x[0]*x[1]*np.exp(x[1]*(T+x[2]))))"
   ]
  },
  {
   "cell_type": "code",
   "execution_count": 16,
   "metadata": {},
   "outputs": [
    {
     "data": {
      "image/png": "[encoded data removed]",
      "text/plain": [
       "<Figure size 432x288 with 1 Axes>"
      ]
     },
     "metadata": {
      "needs_background": "light"
     },
     "output_type": "display_data"
    }
   ],
   "source": [
    "x_exp = opt.leastsq(func=residual_exp, x0=np.array([1.5,.4,2.5]), Dfun=jac_exp)[0]\n",
    "Tdom = np.linspace(0,15,100)\n",
    "yfit_exp = model_exp(x_exp,Tdom)\n",
    "\n",
    "# plot the resulting curve along with the actual data points\n",
    "plt.scatter(T, y, label='Data', s=6, marker='o')\n",
    "plt.plot(Tdom, yfit_exp, 'g--', label='Normal Equations')\n",
    "plt.title(\"Exponential Model\")\n",
    "plt.show()"
   ]
  },
  {
   "cell_type": "code",
   "execution_count": 17,
   "metadata": {},
   "outputs": [],
   "source": [
    "model_logit = lambda x, t: x[0]/(1+np.exp(-x[1]*(t+x[2])))\n",
    "residual_logit = lambda x: model_logit(x,T) - y\n",
    "jac_logit = lambda x: np.column_stack((1/(1+np.exp(-x[1]*(T+x[2]))),\n",
    "                                     x[0]*np.exp(-x[1]*(T+x[2]))*(T+x[2])/(1+np.exp(-x[1]*(T+x[2])))**2,\n",
    "                                     x[0]*np.exp(-x[1]*(T+x[2]))*x[1]/(1+np.exp(-x[1]*(T+x[2])))**2))"
   ]
  },
  {
   "cell_type": "code",
   "execution_count": 18,
   "metadata": {},
   "outputs": [
    {
     "data": {
      "image/png": "[encoded data removed]",
      "text/plain": [
       "<Figure size 432x288 with 1 Axes>"
      ]
     },
     "metadata": {
      "needs_background": "light"
     },
     "output_type": "display_data"
    }
   ],
   "source": [
    "x_logit = opt.leastsq(func=residual_logit, x0=np.array([150,.4,-15]), Dfun=jac_logit)[0]\n",
    "yfit_logit = model_logit(x_logit,Tdom)\n",
    "\n",
    "# plot the resulting curve along with the actual data points\n",
    "plt.scatter(T, y, label='Data', s=6, marker='o')\n",
    "plt.plot(Tdom, yfit_logit, 'r--', label='Normal Equations')\n",
    "plt.title(\"Logistic Model\")\n",
    "plt.show()"
   ]
  }
 ],
 "metadata": {
  "kernelspec": {
   "display_name": "Python 3",
   "language": "python",
   "name": "python3"
  },
  "language_info": {
   "codemirror_mode": {
    "name": "ipython",
    "version": 3
   },
   "file_extension": ".py",
   "mimetype": "text/x-python",
   "name": "python",
   "nbconvert_exporter": "python",
   "pygments_lexer": "ipython3",
   "version": "3.7.3"
  }
 },
 "nbformat": 4,
 "nbformat_minor": 2
}
