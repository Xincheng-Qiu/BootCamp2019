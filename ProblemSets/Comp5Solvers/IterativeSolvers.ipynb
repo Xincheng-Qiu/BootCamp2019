{
 "cells": [
  {
   "cell_type": "markdown",
   "metadata": {},
   "source": [
    "## Problem 1: The Jacobi Method"
   ]
  },
  {
   "cell_type": "code",
   "execution_count": 1,
   "metadata": {},
   "outputs": [],
   "source": [
    "import numpy as np\n",
    "from scipy import linalg as la"
   ]
  },
  {
   "cell_type": "code",
   "execution_count": 2,
   "metadata": {},
   "outputs": [],
   "source": [
    "def jacobi(A,b,tol=1e-6,maxiters=1e5):\n",
    "    d = np.diag(A).reshape((len(b),1))\n",
    "    numiters = 1\n",
    "    diff = 1\n",
    "    xguess = np.zeros(len(b)).reshape((len(b),1))\n",
    "    \n",
    "    while diff > tol and numiters < maxiters:\n",
    "        xupdate = xguess + (b - A @ xguess) / d\n",
    "        diff = la.norm(xupdate-xguess,np.inf)\n",
    "        numiters += 1\n",
    "        xguess = xupdate\n",
    "    \n",
    "    return xupdate"
   ]
  },
  {
   "cell_type": "code",
   "execution_count": 3,
   "metadata": {},
   "outputs": [],
   "source": [
    "def diag_dom(n, num_entries=None):\n",
    "    \"\"\"Generate a strictly diagonally dominant (n, n) matrix.\n",
    "    Parameters:\n",
    "    n (int): The dimension of the system.\n",
    "    num_entries (int): The number of nonzero values.\n",
    "    Defaults to n^(3/2)-n.\n",
    "    Returns:\n",
    "    A ((n,n) ndarray): A (n, n) strictly diagonally dominant matrix.\n",
    "    \"\"\"\n",
    "    if num_entries is None:\n",
    "        num_entries = int(n**1.5) - n\n",
    "    A = np.zeros((n,n))\n",
    "    rows = np.random.choice(np.arange(0,n), size=num_entries)\n",
    "    cols = np.random.choice(np.arange(0,n), size=num_entries)\n",
    "    data = np.random.randint(-4, 4, size=num_entries)\n",
    "    for i in range(num_entries):\n",
    "        A[rows[i], cols[i]] = data[i]\n",
    "    for i in range(n):\n",
    "        A[i,i] = np.sum(np.abs(A[i])) + 1\n",
    "    return A"
   ]
  },
  {
   "cell_type": "code",
   "execution_count": 4,
   "metadata": {},
   "outputs": [
    {
     "name": "stdout",
     "output_type": "stream",
     "text": [
      "[[0.20854065]\n",
      " [0.06234033]\n",
      " [0.13838823]\n",
      " [0.14767201]\n",
      " [0.11337025]\n",
      " [0.2120212 ]\n",
      " [0.27005165]\n",
      " [0.20627225]\n",
      " [0.01561609]\n",
      " [0.06907012]]\n",
      "[[0.20854121]\n",
      " [0.06233978]\n",
      " [0.13838813]\n",
      " [0.14767174]\n",
      " [0.11336983]\n",
      " [0.21202155]\n",
      " [0.27005137]\n",
      " [0.20627246]\n",
      " [0.01561622]\n",
      " [0.06907032]]\n"
     ]
    }
   ],
   "source": [
    "A = diag_dom(10)\n",
    "b = np.random.random((10,1))\n",
    "print(la.solve(A, b))\n",
    "print(jacobi(A,b))"
   ]
  },
  {
   "cell_type": "markdown",
   "metadata": {},
   "source": [
    "## Problem 2"
   ]
  },
  {
   "cell_type": "code",
   "execution_count": 5,
   "metadata": {},
   "outputs": [],
   "source": [
    "from matplotlib import pyplot as plt"
   ]
  },
  {
   "cell_type": "code",
   "execution_count": 6,
   "metadata": {},
   "outputs": [],
   "source": [
    "def jacobi_new(A,b,tol=1e-6,maxiters=1e5,plot=False):\n",
    "    d = np.diag(A).reshape((len(b),1))\n",
    "    numiters = 1\n",
    "    diff = 1\n",
    "    xguess = np.zeros(len(b)).reshape((len(b),1))\n",
    "    abserr = []\n",
    "    \n",
    "    while diff > tol and numiters < maxiters:\n",
    "        xupdate = xguess + (b - A @ xguess) / d\n",
    "        abserr.append(la.norm(A @ xupdate - b, np.inf))\n",
    "        diff = la.norm(xupdate-xguess,np.inf)\n",
    "        numiters += 1\n",
    "        xguess = xupdate     \n",
    "        \n",
    "    if plot == True:\n",
    "        plt.semilogy(np.arange(1, numiters, 1), abserr)\n",
    "        plt.xlabel('Iteration')\n",
    "        plt.ylabel('Absolute Error of Approximation')\n",
    "        plt.title('Convergence of Jacobi Method')     \n",
    "    \n",
    "    return xupdate"
   ]
  },
  {
   "cell_type": "code",
   "execution_count": 7,
   "metadata": {},
   "outputs": [
    {
     "data": {
      "text/plain": [
       "array([[0.20854121],\n",
       "       [0.06233978],\n",
       "       [0.13838813],\n",
       "       [0.14767174],\n",
       "       [0.11336983],\n",
       "       [0.21202155],\n",
       "       [0.27005137],\n",
       "       [0.20627246],\n",
       "       [0.01561622],\n",
       "       [0.06907032]])"
      ]
     },
     "execution_count": 7,
     "metadata": {},
     "output_type": "execute_result"
    },
    {
     "data": {
      "image/png": "[encoded data removed]",
      "text/plain": [
       "<Figure size 432x288 with 1 Axes>"
      ]
     },
     "metadata": {
      "needs_background": "light"
     },
     "output_type": "display_data"
    }
   ],
   "source": [
    "jacobi_new(A,b,plot=True)"
   ]
  },
  {
   "cell_type": "markdown",
   "metadata": {},
   "source": [
    "## Problem 3: The Gauss-Seidel Method "
   ]
  },
  {
   "cell_type": "code",
   "execution_count": 8,
   "metadata": {},
   "outputs": [],
   "source": [
    "def gauss_seidel(A,b,tol=1e-6,maxiters=1e5,plot=False):\n",
    "    numiters = 1\n",
    "    diff = 1\n",
    "    xguess = np.zeros(len(b)).reshape((len(b),1))\n",
    "    xupdate = np.zeros(len(b)).reshape((len(b),1))\n",
    "    abserr = []\n",
    "    \n",
    "    while diff > tol and numiters < maxiters:\n",
    "        xold = np.copy(xguess)\n",
    "        for i in range(len(b)):\n",
    "            xupdate[i] = xguess[i] + (b[i] - np.dot(A[i,:],xguess)) / A[i,i]\n",
    "        abserr.append(la.norm(A @ xupdate - b, np.inf))\n",
    "        diff = la.norm(xupdate-xold,np.inf)\n",
    "        numiters += 1\n",
    "        xguess = xupdate\n",
    "    \n",
    "    if plot == True:\n",
    "        plt.semilogy(np.arange(1, numiters, 1), abserr)\n",
    "        plt.xlabel('Iteration')\n",
    "        plt.ylabel('Absolute Error of Approximation')\n",
    "        plt.title('Convergence of Jacobi Method')     \n",
    "    \n",
    "    return xupdate"
   ]
  },
  {
   "cell_type": "code",
   "execution_count": 9,
   "metadata": {},
   "outputs": [
    {
     "data": {
      "text/plain": [
       "array([[0.20854075],\n",
       "       [0.06234013],\n",
       "       [0.13838828],\n",
       "       [0.14767209],\n",
       "       [0.11337009],\n",
       "       [0.21202103],\n",
       "       [0.27005168],\n",
       "       [0.2062723 ],\n",
       "       [0.01561608],\n",
       "       [0.06907001]])"
      ]
     },
     "execution_count": 9,
     "metadata": {},
     "output_type": "execute_result"
    },
    {
     "data": {
      "image/png": "[encoded data removed]",
      "text/plain": [
       "<Figure size 432x288 with 1 Axes>"
      ]
     },
     "metadata": {
      "needs_background": "light"
     },
     "output_type": "display_data"
    }
   ],
   "source": [
    "gauss_seidel(A,b,plot=True)"
   ]
  },
  {
   "cell_type": "markdown",
   "metadata": {},
   "source": [
    "## Problem 4: Solving Sparse Systems Iteratively"
   ]
  },
  {
   "cell_type": "code",
   "execution_count": 10,
   "metadata": {},
   "outputs": [],
   "source": [
    "from scipy import sparse"
   ]
  },
  {
   "cell_type": "code",
   "execution_count": 11,
   "metadata": {},
   "outputs": [],
   "source": [
    "def gauss_seidel_sparse(A,b,tol=1e-6,maxiters=1e5):\n",
    "    numiters = 1\n",
    "    diff = 1\n",
    "    xguess = np.zeros(len(b)).reshape((len(b),1))\n",
    "    xupdate = np.zeros(len(b)).reshape((len(b),1))\n",
    "    \n",
    "    while diff > tol and numiters < maxiters:\n",
    "        xold = np.copy(xguess)\n",
    "        for i in range(len(b)):\n",
    "            rowstart = A.indptr[i]\n",
    "            rowend = A.indptr[i+1]\n",
    "            Aix = A.data[rowstart:rowend] @ xguess[A.indices[rowstart:rowend]]\n",
    "            xupdate[i] = xguess[i] + (b[i] - Aix) / A[i,i]\n",
    "        diff = la.norm(xupdate-xold,np.inf)\n",
    "        numiters += 1\n",
    "        xguess = xupdate \n",
    "    \n",
    "    return xupdate"
   ]
  },
  {
   "cell_type": "code",
   "execution_count": 12,
   "metadata": {},
   "outputs": [
    {
     "data": {
      "text/plain": [
       "array([[0.00273255],\n",
       "       [0.00627977],\n",
       "       [0.00815573],\n",
       "       ...,\n",
       "       [0.0053559 ],\n",
       "       [0.00398343],\n",
       "       [0.00860627]])"
      ]
     },
     "execution_count": 12,
     "metadata": {},
     "output_type": "execute_result"
    }
   ],
   "source": [
    "A = sparse.csr_matrix(diag_dom(5000))\n",
    "b = np.random.random(5000)\n",
    "gauss_seidel_sparse(A,b)"
   ]
  },
  {
   "cell_type": "markdown",
   "metadata": {},
   "source": [
    "## Problem 5: Successive Over-Relaxation"
   ]
  },
  {
   "cell_type": "code",
   "execution_count": 13,
   "metadata": {},
   "outputs": [],
   "source": [
    "def sor(A,b,omega,tol=1e-6,maxiters=1e5):\n",
    "    numiters = 1\n",
    "    diff = 1\n",
    "    xguess = np.zeros(len(b)).reshape((len(b),1))\n",
    "    xupdate = np.zeros(len(b)).reshape((len(b),1))\n",
    "    A = A.tocsr()\n",
    "    \n",
    "    while diff > tol and numiters < maxiters:\n",
    "        xold = np.copy(xguess)\n",
    "        for i in range(len(b)):\n",
    "            rowstart = A.indptr[i]\n",
    "            rowend = A.indptr[i+1]\n",
    "            Aix = np.dot(A.data[rowstart:rowend].reshape(-1),xguess[A.indices[rowstart:rowend]].reshape(-1))\n",
    "            xupdate[i] = xguess[i] + omega * (b[i] - Aix) / A[i,i]\n",
    "        diff = la.norm(xupdate-xold,np.inf)\n",
    "        numiters += 1\n",
    "        xguess = xupdate \n",
    "    \n",
    "    return xupdate,numiters"
   ]
  },
  {
   "cell_type": "code",
   "execution_count": 14,
   "metadata": {},
   "outputs": [
    {
     "data": {
      "text/plain": [
       "(array([[0.00273242],\n",
       "        [0.00627953],\n",
       "        [0.0081556 ],\n",
       "        ...,\n",
       "        [0.00535589],\n",
       "        [0.00398343],\n",
       "        [0.00860624]]), 11)"
      ]
     },
     "execution_count": 14,
     "metadata": {},
     "output_type": "execute_result"
    }
   ],
   "source": [
    "sor(A,b,0.8)"
   ]
  },
  {
   "cell_type": "markdown",
   "metadata": {},
   "source": [
    "## Problem 6: A Finite Difference Method"
   ]
  },
  {
   "cell_type": "code",
   "execution_count": 15,
   "metadata": {},
   "outputs": [],
   "source": [
    "def findiff(n,omega,tol=1e-8,maxiters=100,plot=False):\n",
    "    # matrices inputs\n",
    "    bsub = np.zeros(n)\n",
    "    bsub[0] = -100\n",
    "    bsub[-1] = -100\n",
    "    b = np.tile(bsub,n)\n",
    "    \n",
    "    I = sparse.diags([1], shape=(n,n))\n",
    "    B = sparse.diags([1,-4,1], [-1,0,1], shape=(n,n))\n",
    "    Amat = []\n",
    "    for i in range(n):\n",
    "        Arow = []\n",
    "        for j in range(n):\n",
    "            if j < i - 1:\n",
    "                Arow.append(None)\n",
    "            elif j == i - 1:\n",
    "                Arow.append(I)\n",
    "            elif j == i:\n",
    "                Arow.append(B)\n",
    "            elif j == i + 1:\n",
    "                Arow.append(I)\n",
    "            else:\n",
    "                Arow.append(None)\n",
    "        Amat.append(Arow)\n",
    "    A = sparse.bmat(Amat, format='bsr')\n",
    "    \n",
    "    u,numiters = sor(A,b,omega,tol,maxiters)\n",
    "\n",
    "    if plot == True:   \n",
    "        xax = np.linspace(0, 1, n + 1)\n",
    "        yax = np.linspace(0, 1, n + 1)\n",
    "        X, Y = np.meshgrid(xax, yax)\n",
    "        u2d = u.reshape((n,n))\n",
    "        fig = plt.figure(figsize=(8,8))\n",
    "        plt.pcolormesh(X, Y, u2d, cmap='coolwarm')\n",
    "        plt.colorbar()\n",
    "        plt.show()\n",
    "        \n",
    "    return u,numiters"
   ]
  },
  {
   "cell_type": "code",
   "execution_count": 16,
   "metadata": {},
   "outputs": [
    {
     "data": {
      "image/png": "[encoded data removed]",
      "text/plain": [
       "<Figure size 576x576 with 2 Axes>"
      ]
     },
     "metadata": {
      "needs_background": "light"
     },
     "output_type": "display_data"
    },
    {
     "data": {
      "text/plain": [
       "(array([[49.99999998],\n",
       "        [30.36165215],\n",
       "        [21.4466087 ],\n",
       "        [17.12591632],\n",
       "        [15.30819969],\n",
       "        [15.3081997 ],\n",
       "        [17.12591632],\n",
       "        [21.44660871],\n",
       "        [30.36165216],\n",
       "        [49.99999999],\n",
       "        [69.63834778],\n",
       "        [49.99999994],\n",
       "        [38.29886635],\n",
       "        [31.74885688],\n",
       "        [28.79868278],\n",
       "        [28.79868278],\n",
       "        [31.74885689],\n",
       "        [38.29886636],\n",
       "        [49.99999995],\n",
       "        [69.63834779],\n",
       "        [78.55339121],\n",
       "        [61.70113349],\n",
       "        [49.99999989],\n",
       "        [42.77196209],\n",
       "        [39.33899177],\n",
       "        [39.33899178],\n",
       "        [42.7719621 ],\n",
       "        [49.9999999 ],\n",
       "        [61.7011335 ],\n",
       "        [78.55339122],\n",
       "        [82.87408358],\n",
       "        [68.25114293],\n",
       "        [57.22803765],\n",
       "        [49.99999985],\n",
       "        [46.44633047],\n",
       "        [46.44633048],\n",
       "        [49.99999986],\n",
       "        [57.22803766],\n",
       "        [68.25114295],\n",
       "        [82.87408359],\n",
       "        [84.6918002 ],\n",
       "        [71.20131702],\n",
       "        [60.66100795],\n",
       "        [53.5536692 ],\n",
       "        [49.99999983],\n",
       "        [49.99999983],\n",
       "        [53.55366921],\n",
       "        [60.66100797],\n",
       "        [71.20131704],\n",
       "        [84.69180021],\n",
       "        [84.6918002 ],\n",
       "        [71.20131702],\n",
       "        [60.66100795],\n",
       "        [53.5536692 ],\n",
       "        [49.99999983],\n",
       "        [49.99999984],\n",
       "        [53.55366922],\n",
       "        [60.66100797],\n",
       "        [71.20131704],\n",
       "        [84.69180021],\n",
       "        [82.87408359],\n",
       "        [68.25114294],\n",
       "        [57.22803766],\n",
       "        [49.99999986],\n",
       "        [46.44633049],\n",
       "        [46.44633049],\n",
       "        [49.99999987],\n",
       "        [57.22803767],\n",
       "        [68.25114295],\n",
       "        [82.8740836 ],\n",
       "        [78.55339122],\n",
       "        [61.7011335 ],\n",
       "        [49.9999999 ],\n",
       "        [42.77196211],\n",
       "        [39.33899179],\n",
       "        [39.33899179],\n",
       "        [42.77196212],\n",
       "        [49.99999991],\n",
       "        [61.70113351],\n",
       "        [78.55339122],\n",
       "        [69.63834779],\n",
       "        [49.99999995],\n",
       "        [38.29886636],\n",
       "        [31.74885689],\n",
       "        [28.79868279],\n",
       "        [28.7986828 ],\n",
       "        [31.7488569 ],\n",
       "        [38.29886637],\n",
       "        [49.99999996],\n",
       "        [69.63834779],\n",
       "        [49.99999999],\n",
       "        [30.36165216],\n",
       "        [21.44660871],\n",
       "        [17.12591633],\n",
       "        [15.30819971],\n",
       "        [15.30819971],\n",
       "        [17.12591633],\n",
       "        [21.44660872],\n",
       "        [30.36165217],\n",
       "        [49.99999999]]), 368)"
      ]
     },
     "execution_count": 16,
     "metadata": {},
     "output_type": "execute_result"
    }
   ],
   "source": [
    "findiff(10,0.8,maxiters = 10000,plot=True)"
   ]
  },
  {
   "cell_type": "markdown",
   "metadata": {},
   "source": [
    "## Problem 7"
   ]
  },
  {
   "cell_type": "code",
   "execution_count": 17,
   "metadata": {},
   "outputs": [],
   "source": [
    "n = 20\n",
    "w = np.arange(1,2,0.05)\n",
    "numiters = np.zeros(len(w))\n",
    "for ind,omega in enumerate(w):\n",
    "    numiters[ind] = findiff(n,omega,tol=1e-2,maxiters=1000,plot=False)[1]"
   ]
  },
  {
   "cell_type": "code",
   "execution_count": 18,
   "metadata": {},
   "outputs": [
    {
     "data": {
      "text/plain": [
       "1.7500000000000007"
      ]
     },
     "execution_count": 18,
     "metadata": {},
     "output_type": "execute_result"
    }
   ],
   "source": [
    "w[np.argmin(numiters)]"
   ]
  },
  {
   "cell_type": "code",
   "execution_count": 19,
   "metadata": {},
   "outputs": [
    {
     "data": {
      "image/png": "[encoded data removed]",
      "text/plain": [
       "<Figure size 576x576 with 1 Axes>"
      ]
     },
     "metadata": {
      "needs_background": "light"
     },
     "output_type": "display_data"
    }
   ],
   "source": [
    "fig = plt.figure(figsize=(8,8))\n",
    "plt.plot(w, numiters)\n",
    "plt.xlabel(r'$\\omega$')\n",
    "plt.ylabel('Number of Iterations')\n",
    "plt.show()"
   ]
  }
 ],
 "metadata": {
  "kernelspec": {
   "display_name": "Python 3",
   "language": "python",
   "name": "python3"
  },
  "language_info": {
   "codemirror_mode": {
    "name": "ipython",
    "version": 3
   },
   "file_extension": ".py",
   "mimetype": "text/x-python",
   "name": "python",
   "nbconvert_exporter": "python",
   "pygments_lexer": "ipython3",
   "version": "3.7.3"
  }
 },
 "nbformat": 4,
 "nbformat_minor": 2
}
